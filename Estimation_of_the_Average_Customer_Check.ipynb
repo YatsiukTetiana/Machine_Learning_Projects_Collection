{
  "nbformat": 4,
  "nbformat_minor": 0,
  "metadata": {
    "colab": {
      "provenance": []
    },
    "kernelspec": {
      "name": "python3",
      "display_name": "Python 3"
    },
    "language_info": {
      "name": "python"
    }
  },
  "cells": [
    {
      "cell_type": "markdown",
      "source": [
        "# Estimation of the Average Customer Check\n",
        "\n",
        "Created by **Tetiana Yatsiuk**  \n",
        "✉️ *Email:*  tet.yatsiuk@gmail.com  \n",
        "🔗 [*LinkedIn*](www.linkedin.com/in/tetianayatsiuk)   , 💻 [*GitHub*](https://github.com/YatsiukTetiana)"
      ],
      "metadata": {
        "id": "5N3ZTgubIzvQ"
      }
    },
    {
      "cell_type": "markdown",
      "source": [
        "# 🗂️ Project Summary"
      ],
      "metadata": {
        "id": "kH4ICO7_KXN3"
      }
    },
    {
      "cell_type": "markdown",
      "source": [
        "**Objectives**\n",
        "- Estimate the average customer check using multiple predictors.\n",
        "- Improve model performance with regularization (Ridge, Lasso).\n",
        "- Interpret feature importance and detect multicollinearity.\n",
        "\n",
        "<br/>\n",
        "\n",
        "**Dataset Description**  \n",
        "Target variable (`y`): Average customer check in UAH  \n",
        "Features (`X`):\n",
        "- `x1`: Number of items in cart\n",
        "- `x2`: Average item price (UAH)\n",
        "- `x3`: Discount percentage (%)\n",
        "- `x4`: Time spent on site before checkout (minutes)\n",
        "\n",
        "<br/>\n",
        "\n",
        "**Tools Used**\n",
        "- Python (pandas, matplotlib, seaborn)\n",
        "- Python sklearn:\n",
        "   - `LinearRegression`\n",
        "   - `train_test_split`\n",
        "   - `metrics` (`mean_absolute_error`, `mean_squared_error`, `root_mean_squared_error`, `r2_score`)\n",
        "   - `cross_val_score`\n",
        "   - `StandardScaler`\n",
        "   - `Ridge`, `Lasso`\n",
        "- Markdown"
      ],
      "metadata": {
        "id": "RA4kACtZKL8C"
      }
    },
    {
      "cell_type": "markdown",
      "source": [
        "# 1. 🔢 Initial Data"
      ],
      "metadata": {
        "id": "PzK7JwyjMV9w"
      }
    },
    {
      "cell_type": "code",
      "source": [
        "import pandas as pd\n",
        "\n",
        "# x1: Number of items in the cart (Items_in_Cart)\n",
        "num_items = [4, 8, 3, 7, 2, 6, 1, 5, 9, 2, 8, 4, 7, 3, 6, 2, 5, 9, 1, 4,\n",
        "             7, 6, 3, 8, 2, 5, 4, 9, 7, 2, 6, 3, 8, 5, 1, 7, 9, 4, 6, 2]\n",
        "\n",
        "# x2: Average price per item in the cart (in UAH) (Average_Item_Price)\n",
        "avg_price = [150.8, 230.5, 175.2, 310.1, 200.0, 320.4, 120.5, 270.6, 450.2, 210.7,\n",
        "             180.5, 350.1, 290.3, 410.5, 250.8, 280.7, 300.5, 490.1, 130.2, 260.5,\n",
        "             340.8, 220.1, 170.5, 310.3, 180.6, 260.4, 300.9, 420.7, 290.5, 200.1,\n",
        "             310.6, 150.5, 370.2, 280.5, 180.1, 400.7, 430.6, 270.5, 320.2, 150.6]\n",
        "\n",
        "# x3: Discount percentage applied to the order (Discount_Percentage)\n",
        "discount = [5.0, 10.5, 15.0, 8.5, 12.0, 20.0, 7.0, 14.0, 25.0, 6.5,\n",
        "            9.0, 11.5, 22.0, 18.0, 10.0, 5.5, 16.0, 24.0, 13.0, 8.0,\n",
        "            15.5, 17.0, 9.5, 19.0, 21.0, 7.5, 14.5, 25.0, 11.0, 10.0,\n",
        "            20.5, 6.0, 13.5, 18.5, 8.5, 22.5, 24.5, 12.5, 14.0, 10.5]\n",
        "\n",
        "# x4: Time spent on the website before placing the order (in minutes) (Time_on_Site)\n",
        "time_spent = [25.0, 35.5, 28.0, 40.5, 22.0, 50.0, 18.5, 33.0, 48.5, 30.0,\n",
        "              27.5, 38.0, 44.5, 39.0, 31.5, 29.0, 34.5, 49.0, 24.0, 32.0,\n",
        "              37.5, 41.0, 26.0, 42.5, 23.5, 36.0, 30.5, 47.0, 29.5, 34.0,\n",
        "              40.0, 28.5, 39.5, 43.0, 25.5, 45.5, 46.5, 30.0, 33.5, 27.0]\n",
        "\n",
        "# y: Average order value (in UAH) (Average_Check)\n",
        "avg_order = [950, 1780, 1120, 2250, 870, 2000, 650, 1600, 3200, 1050,\n",
        "             1250, 2500, 2100, 2800, 1800, 1650, 1900, 3400, 750, 1550,\n",
        "             2300, 1850, 1150, 2400, 890, 1700, 1950, 3100, 2200, 1450,\n",
        "             2000, 950, 2500, 1750, 1250, 2850, 3300, 1550, 2100, 950]\n",
        "\n",
        "data = pd.DataFrame({'avg_order': avg_order,\n",
        "                     'num_items': num_items,\n",
        "                     'avg_price': avg_price,\n",
        "                     'discount': discount,\n",
        "                     'time_spent': time_spent\n",
        "                     })"
      ],
      "metadata": {
        "id": "XgvyzkWcWYVd"
      },
      "execution_count": 2,
      "outputs": []
    },
    {
      "cell_type": "markdown",
      "source": [
        "\n",
        "8. Побудуй стандартизовану регресійну модель. Проаналізуй її коефіцієнти. Побудуй стовпчасту діаграму коефіцієнтів.\n",
        "\n",
        "9. У підсумку, який із чотирьох розглянутих факторів найбільше впливає на середній чек покупця? Який впливає найменше?"
      ],
      "metadata": {
        "id": "bKscqz4jWdsl"
      }
    },
    {
      "cell_type": "markdown",
      "source": [
        "Generating the X matrix of explanatory variables and the y vector of the target variable based on the data frame."
      ],
      "metadata": {
        "id": "6UVEu0bCNB-m"
      }
    },
    {
      "cell_type": "code",
      "source": [
        "from sklearn.linear_model import LinearRegression\n",
        "from sklearn.model_selection import train_test_split\n",
        "from sklearn.metrics import mean_absolute_error, mean_squared_error, r2_score"
      ],
      "metadata": {
        "id": "Dx62_juy1ocl"
      },
      "execution_count": 3,
      "outputs": []
    },
    {
      "cell_type": "code",
      "source": [
        "# Matrix of explanatory variables and target variable\n",
        "X = data[['num_items', 'avg_price', 'discount', 'time_spent']]\n",
        "y = data['avg_order']"
      ],
      "metadata": {
        "id": "N_NQu4151mHz"
      },
      "execution_count": 4,
      "outputs": []
    },
    {
      "cell_type": "markdown",
      "source": [
        "Splitting the dataset into training and test data. Test data contains 30% of the general data."
      ],
      "metadata": {
        "id": "CGKvZ56BNFfk"
      }
    },
    {
      "cell_type": "code",
      "source": [
        "# Splitting data into train and test\n",
        "X_train, X_test, y_train, y_test = train_test_split(X, y, test_size = 0.3, random_state = 1)"
      ],
      "metadata": {
        "id": "0HuzbDBW2q0b"
      },
      "execution_count": 5,
      "outputs": []
    },
    {
      "cell_type": "markdown",
      "source": [
        "# 2. 📈 Linear Regression Model"
      ],
      "metadata": {
        "id": "_dyFVB7LY9Y1"
      }
    },
    {
      "cell_type": "markdown",
      "source": [
        "Training a linear regression model on the training data."
      ],
      "metadata": {
        "id": "XbPYGbGJNPig"
      }
    },
    {
      "cell_type": "code",
      "source": [
        "# Model training\n",
        "model = LinearRegression()\n",
        "model.fit(X_train, y_train)"
      ],
      "metadata": {
        "colab": {
          "base_uri": "https://localhost:8080/",
          "height": 80
        },
        "id": "dtY1MJ5n3BRs",
        "outputId": "5cef44e9-35a4-467e-cf22-d9b7eac3e2ec"
      },
      "execution_count": 6,
      "outputs": [
        {
          "output_type": "execute_result",
          "data": {
            "text/plain": [
              "LinearRegression()"
            ],
            "text/html": [
              "<style>#sk-container-id-1 {\n",
              "  /* Definition of color scheme common for light and dark mode */\n",
              "  --sklearn-color-text: #000;\n",
              "  --sklearn-color-text-muted: #666;\n",
              "  --sklearn-color-line: gray;\n",
              "  /* Definition of color scheme for unfitted estimators */\n",
              "  --sklearn-color-unfitted-level-0: #fff5e6;\n",
              "  --sklearn-color-unfitted-level-1: #f6e4d2;\n",
              "  --sklearn-color-unfitted-level-2: #ffe0b3;\n",
              "  --sklearn-color-unfitted-level-3: chocolate;\n",
              "  /* Definition of color scheme for fitted estimators */\n",
              "  --sklearn-color-fitted-level-0: #f0f8ff;\n",
              "  --sklearn-color-fitted-level-1: #d4ebff;\n",
              "  --sklearn-color-fitted-level-2: #b3dbfd;\n",
              "  --sklearn-color-fitted-level-3: cornflowerblue;\n",
              "\n",
              "  /* Specific color for light theme */\n",
              "  --sklearn-color-text-on-default-background: var(--sg-text-color, var(--theme-code-foreground, var(--jp-content-font-color1, black)));\n",
              "  --sklearn-color-background: var(--sg-background-color, var(--theme-background, var(--jp-layout-color0, white)));\n",
              "  --sklearn-color-border-box: var(--sg-text-color, var(--theme-code-foreground, var(--jp-content-font-color1, black)));\n",
              "  --sklearn-color-icon: #696969;\n",
              "\n",
              "  @media (prefers-color-scheme: dark) {\n",
              "    /* Redefinition of color scheme for dark theme */\n",
              "    --sklearn-color-text-on-default-background: var(--sg-text-color, var(--theme-code-foreground, var(--jp-content-font-color1, white)));\n",
              "    --sklearn-color-background: var(--sg-background-color, var(--theme-background, var(--jp-layout-color0, #111)));\n",
              "    --sklearn-color-border-box: var(--sg-text-color, var(--theme-code-foreground, var(--jp-content-font-color1, white)));\n",
              "    --sklearn-color-icon: #878787;\n",
              "  }\n",
              "}\n",
              "\n",
              "#sk-container-id-1 {\n",
              "  color: var(--sklearn-color-text);\n",
              "}\n",
              "\n",
              "#sk-container-id-1 pre {\n",
              "  padding: 0;\n",
              "}\n",
              "\n",
              "#sk-container-id-1 input.sk-hidden--visually {\n",
              "  border: 0;\n",
              "  clip: rect(1px 1px 1px 1px);\n",
              "  clip: rect(1px, 1px, 1px, 1px);\n",
              "  height: 1px;\n",
              "  margin: -1px;\n",
              "  overflow: hidden;\n",
              "  padding: 0;\n",
              "  position: absolute;\n",
              "  width: 1px;\n",
              "}\n",
              "\n",
              "#sk-container-id-1 div.sk-dashed-wrapped {\n",
              "  border: 1px dashed var(--sklearn-color-line);\n",
              "  margin: 0 0.4em 0.5em 0.4em;\n",
              "  box-sizing: border-box;\n",
              "  padding-bottom: 0.4em;\n",
              "  background-color: var(--sklearn-color-background);\n",
              "}\n",
              "\n",
              "#sk-container-id-1 div.sk-container {\n",
              "  /* jupyter's `normalize.less` sets `[hidden] { display: none; }`\n",
              "     but bootstrap.min.css set `[hidden] { display: none !important; }`\n",
              "     so we also need the `!important` here to be able to override the\n",
              "     default hidden behavior on the sphinx rendered scikit-learn.org.\n",
              "     See: https://github.com/scikit-learn/scikit-learn/issues/21755 */\n",
              "  display: inline-block !important;\n",
              "  position: relative;\n",
              "}\n",
              "\n",
              "#sk-container-id-1 div.sk-text-repr-fallback {\n",
              "  display: none;\n",
              "}\n",
              "\n",
              "div.sk-parallel-item,\n",
              "div.sk-serial,\n",
              "div.sk-item {\n",
              "  /* draw centered vertical line to link estimators */\n",
              "  background-image: linear-gradient(var(--sklearn-color-text-on-default-background), var(--sklearn-color-text-on-default-background));\n",
              "  background-size: 2px 100%;\n",
              "  background-repeat: no-repeat;\n",
              "  background-position: center center;\n",
              "}\n",
              "\n",
              "/* Parallel-specific style estimator block */\n",
              "\n",
              "#sk-container-id-1 div.sk-parallel-item::after {\n",
              "  content: \"\";\n",
              "  width: 100%;\n",
              "  border-bottom: 2px solid var(--sklearn-color-text-on-default-background);\n",
              "  flex-grow: 1;\n",
              "}\n",
              "\n",
              "#sk-container-id-1 div.sk-parallel {\n",
              "  display: flex;\n",
              "  align-items: stretch;\n",
              "  justify-content: center;\n",
              "  background-color: var(--sklearn-color-background);\n",
              "  position: relative;\n",
              "}\n",
              "\n",
              "#sk-container-id-1 div.sk-parallel-item {\n",
              "  display: flex;\n",
              "  flex-direction: column;\n",
              "}\n",
              "\n",
              "#sk-container-id-1 div.sk-parallel-item:first-child::after {\n",
              "  align-self: flex-end;\n",
              "  width: 50%;\n",
              "}\n",
              "\n",
              "#sk-container-id-1 div.sk-parallel-item:last-child::after {\n",
              "  align-self: flex-start;\n",
              "  width: 50%;\n",
              "}\n",
              "\n",
              "#sk-container-id-1 div.sk-parallel-item:only-child::after {\n",
              "  width: 0;\n",
              "}\n",
              "\n",
              "/* Serial-specific style estimator block */\n",
              "\n",
              "#sk-container-id-1 div.sk-serial {\n",
              "  display: flex;\n",
              "  flex-direction: column;\n",
              "  align-items: center;\n",
              "  background-color: var(--sklearn-color-background);\n",
              "  padding-right: 1em;\n",
              "  padding-left: 1em;\n",
              "}\n",
              "\n",
              "\n",
              "/* Toggleable style: style used for estimator/Pipeline/ColumnTransformer box that is\n",
              "clickable and can be expanded/collapsed.\n",
              "- Pipeline and ColumnTransformer use this feature and define the default style\n",
              "- Estimators will overwrite some part of the style using the `sk-estimator` class\n",
              "*/\n",
              "\n",
              "/* Pipeline and ColumnTransformer style (default) */\n",
              "\n",
              "#sk-container-id-1 div.sk-toggleable {\n",
              "  /* Default theme specific background. It is overwritten whether we have a\n",
              "  specific estimator or a Pipeline/ColumnTransformer */\n",
              "  background-color: var(--sklearn-color-background);\n",
              "}\n",
              "\n",
              "/* Toggleable label */\n",
              "#sk-container-id-1 label.sk-toggleable__label {\n",
              "  cursor: pointer;\n",
              "  display: flex;\n",
              "  width: 100%;\n",
              "  margin-bottom: 0;\n",
              "  padding: 0.5em;\n",
              "  box-sizing: border-box;\n",
              "  text-align: center;\n",
              "  align-items: start;\n",
              "  justify-content: space-between;\n",
              "  gap: 0.5em;\n",
              "}\n",
              "\n",
              "#sk-container-id-1 label.sk-toggleable__label .caption {\n",
              "  font-size: 0.6rem;\n",
              "  font-weight: lighter;\n",
              "  color: var(--sklearn-color-text-muted);\n",
              "}\n",
              "\n",
              "#sk-container-id-1 label.sk-toggleable__label-arrow:before {\n",
              "  /* Arrow on the left of the label */\n",
              "  content: \"▸\";\n",
              "  float: left;\n",
              "  margin-right: 0.25em;\n",
              "  color: var(--sklearn-color-icon);\n",
              "}\n",
              "\n",
              "#sk-container-id-1 label.sk-toggleable__label-arrow:hover:before {\n",
              "  color: var(--sklearn-color-text);\n",
              "}\n",
              "\n",
              "/* Toggleable content - dropdown */\n",
              "\n",
              "#sk-container-id-1 div.sk-toggleable__content {\n",
              "  max-height: 0;\n",
              "  max-width: 0;\n",
              "  overflow: hidden;\n",
              "  text-align: left;\n",
              "  /* unfitted */\n",
              "  background-color: var(--sklearn-color-unfitted-level-0);\n",
              "}\n",
              "\n",
              "#sk-container-id-1 div.sk-toggleable__content.fitted {\n",
              "  /* fitted */\n",
              "  background-color: var(--sklearn-color-fitted-level-0);\n",
              "}\n",
              "\n",
              "#sk-container-id-1 div.sk-toggleable__content pre {\n",
              "  margin: 0.2em;\n",
              "  border-radius: 0.25em;\n",
              "  color: var(--sklearn-color-text);\n",
              "  /* unfitted */\n",
              "  background-color: var(--sklearn-color-unfitted-level-0);\n",
              "}\n",
              "\n",
              "#sk-container-id-1 div.sk-toggleable__content.fitted pre {\n",
              "  /* unfitted */\n",
              "  background-color: var(--sklearn-color-fitted-level-0);\n",
              "}\n",
              "\n",
              "#sk-container-id-1 input.sk-toggleable__control:checked~div.sk-toggleable__content {\n",
              "  /* Expand drop-down */\n",
              "  max-height: 200px;\n",
              "  max-width: 100%;\n",
              "  overflow: auto;\n",
              "}\n",
              "\n",
              "#sk-container-id-1 input.sk-toggleable__control:checked~label.sk-toggleable__label-arrow:before {\n",
              "  content: \"▾\";\n",
              "}\n",
              "\n",
              "/* Pipeline/ColumnTransformer-specific style */\n",
              "\n",
              "#sk-container-id-1 div.sk-label input.sk-toggleable__control:checked~label.sk-toggleable__label {\n",
              "  color: var(--sklearn-color-text);\n",
              "  background-color: var(--sklearn-color-unfitted-level-2);\n",
              "}\n",
              "\n",
              "#sk-container-id-1 div.sk-label.fitted input.sk-toggleable__control:checked~label.sk-toggleable__label {\n",
              "  background-color: var(--sklearn-color-fitted-level-2);\n",
              "}\n",
              "\n",
              "/* Estimator-specific style */\n",
              "\n",
              "/* Colorize estimator box */\n",
              "#sk-container-id-1 div.sk-estimator input.sk-toggleable__control:checked~label.sk-toggleable__label {\n",
              "  /* unfitted */\n",
              "  background-color: var(--sklearn-color-unfitted-level-2);\n",
              "}\n",
              "\n",
              "#sk-container-id-1 div.sk-estimator.fitted input.sk-toggleable__control:checked~label.sk-toggleable__label {\n",
              "  /* fitted */\n",
              "  background-color: var(--sklearn-color-fitted-level-2);\n",
              "}\n",
              "\n",
              "#sk-container-id-1 div.sk-label label.sk-toggleable__label,\n",
              "#sk-container-id-1 div.sk-label label {\n",
              "  /* The background is the default theme color */\n",
              "  color: var(--sklearn-color-text-on-default-background);\n",
              "}\n",
              "\n",
              "/* On hover, darken the color of the background */\n",
              "#sk-container-id-1 div.sk-label:hover label.sk-toggleable__label {\n",
              "  color: var(--sklearn-color-text);\n",
              "  background-color: var(--sklearn-color-unfitted-level-2);\n",
              "}\n",
              "\n",
              "/* Label box, darken color on hover, fitted */\n",
              "#sk-container-id-1 div.sk-label.fitted:hover label.sk-toggleable__label.fitted {\n",
              "  color: var(--sklearn-color-text);\n",
              "  background-color: var(--sklearn-color-fitted-level-2);\n",
              "}\n",
              "\n",
              "/* Estimator label */\n",
              "\n",
              "#sk-container-id-1 div.sk-label label {\n",
              "  font-family: monospace;\n",
              "  font-weight: bold;\n",
              "  display: inline-block;\n",
              "  line-height: 1.2em;\n",
              "}\n",
              "\n",
              "#sk-container-id-1 div.sk-label-container {\n",
              "  text-align: center;\n",
              "}\n",
              "\n",
              "/* Estimator-specific */\n",
              "#sk-container-id-1 div.sk-estimator {\n",
              "  font-family: monospace;\n",
              "  border: 1px dotted var(--sklearn-color-border-box);\n",
              "  border-radius: 0.25em;\n",
              "  box-sizing: border-box;\n",
              "  margin-bottom: 0.5em;\n",
              "  /* unfitted */\n",
              "  background-color: var(--sklearn-color-unfitted-level-0);\n",
              "}\n",
              "\n",
              "#sk-container-id-1 div.sk-estimator.fitted {\n",
              "  /* fitted */\n",
              "  background-color: var(--sklearn-color-fitted-level-0);\n",
              "}\n",
              "\n",
              "/* on hover */\n",
              "#sk-container-id-1 div.sk-estimator:hover {\n",
              "  /* unfitted */\n",
              "  background-color: var(--sklearn-color-unfitted-level-2);\n",
              "}\n",
              "\n",
              "#sk-container-id-1 div.sk-estimator.fitted:hover {\n",
              "  /* fitted */\n",
              "  background-color: var(--sklearn-color-fitted-level-2);\n",
              "}\n",
              "\n",
              "/* Specification for estimator info (e.g. \"i\" and \"?\") */\n",
              "\n",
              "/* Common style for \"i\" and \"?\" */\n",
              "\n",
              ".sk-estimator-doc-link,\n",
              "a:link.sk-estimator-doc-link,\n",
              "a:visited.sk-estimator-doc-link {\n",
              "  float: right;\n",
              "  font-size: smaller;\n",
              "  line-height: 1em;\n",
              "  font-family: monospace;\n",
              "  background-color: var(--sklearn-color-background);\n",
              "  border-radius: 1em;\n",
              "  height: 1em;\n",
              "  width: 1em;\n",
              "  text-decoration: none !important;\n",
              "  margin-left: 0.5em;\n",
              "  text-align: center;\n",
              "  /* unfitted */\n",
              "  border: var(--sklearn-color-unfitted-level-1) 1pt solid;\n",
              "  color: var(--sklearn-color-unfitted-level-1);\n",
              "}\n",
              "\n",
              ".sk-estimator-doc-link.fitted,\n",
              "a:link.sk-estimator-doc-link.fitted,\n",
              "a:visited.sk-estimator-doc-link.fitted {\n",
              "  /* fitted */\n",
              "  border: var(--sklearn-color-fitted-level-1) 1pt solid;\n",
              "  color: var(--sklearn-color-fitted-level-1);\n",
              "}\n",
              "\n",
              "/* On hover */\n",
              "div.sk-estimator:hover .sk-estimator-doc-link:hover,\n",
              ".sk-estimator-doc-link:hover,\n",
              "div.sk-label-container:hover .sk-estimator-doc-link:hover,\n",
              ".sk-estimator-doc-link:hover {\n",
              "  /* unfitted */\n",
              "  background-color: var(--sklearn-color-unfitted-level-3);\n",
              "  color: var(--sklearn-color-background);\n",
              "  text-decoration: none;\n",
              "}\n",
              "\n",
              "div.sk-estimator.fitted:hover .sk-estimator-doc-link.fitted:hover,\n",
              ".sk-estimator-doc-link.fitted:hover,\n",
              "div.sk-label-container:hover .sk-estimator-doc-link.fitted:hover,\n",
              ".sk-estimator-doc-link.fitted:hover {\n",
              "  /* fitted */\n",
              "  background-color: var(--sklearn-color-fitted-level-3);\n",
              "  color: var(--sklearn-color-background);\n",
              "  text-decoration: none;\n",
              "}\n",
              "\n",
              "/* Span, style for the box shown on hovering the info icon */\n",
              ".sk-estimator-doc-link span {\n",
              "  display: none;\n",
              "  z-index: 9999;\n",
              "  position: relative;\n",
              "  font-weight: normal;\n",
              "  right: .2ex;\n",
              "  padding: .5ex;\n",
              "  margin: .5ex;\n",
              "  width: min-content;\n",
              "  min-width: 20ex;\n",
              "  max-width: 50ex;\n",
              "  color: var(--sklearn-color-text);\n",
              "  box-shadow: 2pt 2pt 4pt #999;\n",
              "  /* unfitted */\n",
              "  background: var(--sklearn-color-unfitted-level-0);\n",
              "  border: .5pt solid var(--sklearn-color-unfitted-level-3);\n",
              "}\n",
              "\n",
              ".sk-estimator-doc-link.fitted span {\n",
              "  /* fitted */\n",
              "  background: var(--sklearn-color-fitted-level-0);\n",
              "  border: var(--sklearn-color-fitted-level-3);\n",
              "}\n",
              "\n",
              ".sk-estimator-doc-link:hover span {\n",
              "  display: block;\n",
              "}\n",
              "\n",
              "/* \"?\"-specific style due to the `<a>` HTML tag */\n",
              "\n",
              "#sk-container-id-1 a.estimator_doc_link {\n",
              "  float: right;\n",
              "  font-size: 1rem;\n",
              "  line-height: 1em;\n",
              "  font-family: monospace;\n",
              "  background-color: var(--sklearn-color-background);\n",
              "  border-radius: 1rem;\n",
              "  height: 1rem;\n",
              "  width: 1rem;\n",
              "  text-decoration: none;\n",
              "  /* unfitted */\n",
              "  color: var(--sklearn-color-unfitted-level-1);\n",
              "  border: var(--sklearn-color-unfitted-level-1) 1pt solid;\n",
              "}\n",
              "\n",
              "#sk-container-id-1 a.estimator_doc_link.fitted {\n",
              "  /* fitted */\n",
              "  border: var(--sklearn-color-fitted-level-1) 1pt solid;\n",
              "  color: var(--sklearn-color-fitted-level-1);\n",
              "}\n",
              "\n",
              "/* On hover */\n",
              "#sk-container-id-1 a.estimator_doc_link:hover {\n",
              "  /* unfitted */\n",
              "  background-color: var(--sklearn-color-unfitted-level-3);\n",
              "  color: var(--sklearn-color-background);\n",
              "  text-decoration: none;\n",
              "}\n",
              "\n",
              "#sk-container-id-1 a.estimator_doc_link.fitted:hover {\n",
              "  /* fitted */\n",
              "  background-color: var(--sklearn-color-fitted-level-3);\n",
              "}\n",
              "</style><div id=\"sk-container-id-1\" class=\"sk-top-container\"><div class=\"sk-text-repr-fallback\"><pre>LinearRegression()</pre><b>In a Jupyter environment, please rerun this cell to show the HTML representation or trust the notebook. <br />On GitHub, the HTML representation is unable to render, please try loading this page with nbviewer.org.</b></div><div class=\"sk-container\" hidden><div class=\"sk-item\"><div class=\"sk-estimator fitted sk-toggleable\"><input class=\"sk-toggleable__control sk-hidden--visually\" id=\"sk-estimator-id-1\" type=\"checkbox\" checked><label for=\"sk-estimator-id-1\" class=\"sk-toggleable__label fitted sk-toggleable__label-arrow\"><div><div>LinearRegression</div></div><div><a class=\"sk-estimator-doc-link fitted\" rel=\"noreferrer\" target=\"_blank\" href=\"https://scikit-learn.org/1.6/modules/generated/sklearn.linear_model.LinearRegression.html\">?<span>Documentation for LinearRegression</span></a><span class=\"sk-estimator-doc-link fitted\">i<span>Fitted</span></span></div></label><div class=\"sk-toggleable__content fitted\"><pre>LinearRegression()</pre></div> </div></div></div></div>"
            ]
          },
          "metadata": {},
          "execution_count": 6
        }
      ]
    },
    {
      "cell_type": "markdown",
      "source": [
        "Prediction using the trained model."
      ],
      "metadata": {
        "id": "PGtUmLL8NSih"
      }
    },
    {
      "cell_type": "code",
      "source": [
        "# Making prediction\n",
        "y_pred = model.predict(X_test)"
      ],
      "metadata": {
        "id": "YCVgaA7m3Qum"
      },
      "execution_count": 7,
      "outputs": []
    },
    {
      "cell_type": "markdown",
      "source": [
        "Model quality evaluation by MAE, MSE, and $R^2$"
      ],
      "metadata": {
        "id": "ipkYCUF09bXk"
      }
    },
    {
      "cell_type": "code",
      "source": [
        "# Model evaluation\n",
        "mae = mean_absolute_error(y_test, y_pred)\n",
        "mse = mean_squared_error(y_test, y_pred)\n",
        "r2 = r2_score(y_test, y_pred)\n",
        "\n",
        "print(\"MAE:\", mae)\n",
        "print(\"MSE:\", mse)\n",
        "print(\"R^2:\", r2)"
      ],
      "metadata": {
        "colab": {
          "base_uri": "https://localhost:8080/"
        },
        "id": "7msOupRx3nds",
        "outputId": "bc12c0a9-2b39-4f48-d19a-476389a30574"
      },
      "execution_count": 8,
      "outputs": [
        {
          "output_type": "stream",
          "name": "stdout",
          "text": [
            "MAE: 152.5498638168349\n",
            "MSE: 34036.63234071783\n",
            "R^2: 0.9451785923616358\n"
          ]
        }
      ]
    },
    {
      "cell_type": "markdown",
      "source": [
        "- The coefficient of determination $R^2$ = 0.94, which means that the model describes the dependence of the target variable on the explanatory variables quite well.\n",
        "- The model makes an average mistake in predicting the average check by 153 UAH, which is uncritical."
      ],
      "metadata": {
        "id": "YA_3dqmu9hyr"
      }
    },
    {
      "cell_type": "markdown",
      "source": [
        "Evaluating the quality of the model using cross-validation:"
      ],
      "metadata": {
        "id": "3LYNcxHiZNcm"
      }
    },
    {
      "cell_type": "code",
      "source": [
        "# Model evaluation by Cross-Validation\n",
        "from sklearn.model_selection import cross_val_score\n",
        "\n",
        "#model_cross = LinearRegression()\n",
        "mae_scores = cross_val_score(model, X, y, cv = 5, scoring = \"neg_mean_absolute_error\")\n",
        "r2_scores = cross_val_score(model, X, y, cv = 5, scoring = \"r2\")\n",
        "\n",
        "print(\"MAE\\nCross-validation scores:\", mae_scores)\n",
        "print(\"Mean cross-validation score:\", mae_scores.mean())\n",
        "print(\"R^2\\nCross-validation scores:\", r2_scores)\n",
        "print(\"Mean cross-validation score:\", r2_scores.mean())"
      ],
      "metadata": {
        "colab": {
          "base_uri": "https://localhost:8080/"
        },
        "id": "YDagzMho4rTu",
        "outputId": "c0b66eb8-2e16-4956-9452-ca8dc5d2e4f3"
      },
      "execution_count": 9,
      "outputs": [
        {
          "output_type": "stream",
          "name": "stdout",
          "text": [
            "MAE\n",
            "Cross-validation scores: [-129.2032032  -166.2782     -156.15597443 -119.08749059 -147.72852745]\n",
            "Mean cross-validation score: -143.6906791344169\n",
            "R^2\n",
            "Cross-validation scores: [0.89205197 0.90838089 0.94877357 0.95434481 0.9529395 ]\n",
            "Mean cross-validation score: 0.9312981450611307\n"
          ]
        }
      ]
    },
    {
      "cell_type": "markdown",
      "source": [
        "According to the results, the coefficient of determination $R^2$ = 0.93, which points that the model accuracy is good enough.\n",
        "\n",
        "Mean absolute error (MAE) for Cross-Validation is less than for simple MAE (143 UAH vs 152 UAH)."
      ],
      "metadata": {
        "id": "Qy_VbkiaCx9x"
      }
    },
    {
      "cell_type": "markdown",
      "source": [
        "# 3. 🔎 Model Coefficients Analysis"
      ],
      "metadata": {
        "id": "TieZfOi5EpEs"
      }
    },
    {
      "cell_type": "code",
      "source": [
        "# Coefficients of a linear regression model\n",
        "\n",
        "print(f\"Model Coefficients:\\n w_0: {model.intercept_}\\n coefficients:{model.coef_}\")"
      ],
      "metadata": {
        "colab": {
          "base_uri": "https://localhost:8080/"
        },
        "id": "FHKxTl7ACsrY",
        "outputId": "d52e574c-f02b-4433-d3a1-866f32e4ee50"
      },
      "execution_count": 10,
      "outputs": [
        {
          "output_type": "stream",
          "name": "stdout",
          "text": [
            "Model Coefficients:\n",
            " w_0: -369.10470516084\n",
            " coefficients:[56.57003525  7.18068693 -4.55923728 -0.08130926]\n"
          ]
        }
      ]
    },
    {
      "cell_type": "markdown",
      "source": [
        "Coefficients for explanatory variables:\n",
        "\n"
      ],
      "metadata": {
        "id": "PqkLPBrUFNUE"
      }
    },
    {
      "cell_type": "markdown",
      "source": [
        "`Average Check` = -369.10 + 56.57 * `items in cart` + 7.18 * `average item price` - 4.55 * `discount percentage` - 0.08 * `time on site`"
      ],
      "metadata": {
        "id": "y8FAg7VvHKpN"
      }
    },
    {
      "cell_type": "markdown",
      "source": [
        "Positive coefficients for:\n",
        "- number of items in cart (56.57)\n",
        "- average item price (7.18)\n",
        "\n",
        "Negative coefficients for:\n",
        "- discount percentage (-4.55)\n",
        "- time on site (-0.08)\n",
        "\n",
        "On a scale relative to each other, the coefficient of the number of items in the cart has the greatest positive impact (56.57). The coefficient of discount percentage has the greatest negative impact (-4.55)"
      ],
      "metadata": {
        "id": "FnZjeoMhHj6C"
      }
    },
    {
      "cell_type": "markdown",
      "source": [
        "**Interpretation of model coefficients**\n",
        "- if the number of ordered units of goods increases by one unit, the average check **increases** by an average of 56.57 UAH;\n",
        "- if the average price of ordered goods increases by UAH 1, the average check **increases** by about 7.18 UAH;\n",
        "- if the discount on goods in the check increases by 1%, the average check **decreases** by 4.55 UAH;\n",
        "- if the time spent on the website increases by 1 minute, the average check **decreases** by 0.08 UAH."
      ],
      "metadata": {
        "id": "LnMRbkUndIy7"
      }
    },
    {
      "cell_type": "markdown",
      "source": [
        "# 4. 📏 Model Standartization"
      ],
      "metadata": {
        "id": "GiQFxerKI1Gi"
      }
    },
    {
      "cell_type": "markdown",
      "source": [
        "To avoid the influence of scale, we use data normalization (scaling).  \n",
        " Normalized data allows to compare coefficients for different variables without distortions caused by scale. Standardization involves subtracting the mean value of a variable and dividing it by its standard deviation."
      ],
      "metadata": {
        "id": "MhOajvXla1J2"
      }
    },
    {
      "cell_type": "code",
      "source": [
        "from sklearn.preprocessing import StandardScaler\n",
        "\n",
        "# standartization\n",
        "scaler = StandardScaler()\n",
        "X_scaled = scaler.fit_transform(X)"
      ],
      "metadata": {
        "id": "dDMIaKrYEvBS"
      },
      "execution_count": 18,
      "outputs": []
    },
    {
      "cell_type": "code",
      "source": [
        "# split data into train and test\n",
        "X_scaled_train, X_scaled_test, y_scaled_train, y_scaled_test = train_test_split(X_scaled, y, test_size = 0.3, random_state = 1)\n",
        "\n",
        "# model training\n",
        "model_scaled = LinearRegression()\n",
        "model_scaled.fit(X_scaled_train, y_scaled_train)\n",
        "\n",
        "# making prediction\n",
        "y_scaled_pred = model_scaled.predict(X_scaled_test)\n",
        "\n",
        "# get coefficients\n",
        "print(f\"Normalized Model Coefficients: {model_scaled.coef_}\")"
      ],
      "metadata": {
        "colab": {
          "base_uri": "https://localhost:8080/"
        },
        "id": "lXNniJDIJMWB",
        "outputId": "d7d82980-c020-4ea3-ee0c-7210ec09f176"
      },
      "execution_count": 19,
      "outputs": [
        {
          "output_type": "stream",
          "name": "stdout",
          "text": [
            "Normalized Model Coefficients: [ 1.40858252e+02  6.67456950e+02 -2.67716315e+01 -6.65817343e-01]\n"
          ]
        }
      ]
    },
    {
      "cell_type": "markdown",
      "source": [
        "**For Normalized Data**  \n",
        "`Average Check` = -369.10 + 140.86 * `items in cart` + 667.45 * `average item price` - 26.77 * `discount percentage` - 0.67 * `time on site`"
      ],
      "metadata": {
        "id": "-nrbIN1hbKdA"
      }
    },
    {
      "cell_type": "markdown",
      "source": [
        "Bulding the bar chart for model coefficients:"
      ],
      "metadata": {
        "id": "NEaLV6dLb3Es"
      }
    },
    {
      "cell_type": "code",
      "source": [
        "import matplotlib.pyplot as plt\n",
        "\n",
        "feature_importance = model_scaled.coef_\n",
        "\n",
        "plt.figure(figsize=(10, 5))\n",
        "plt.bar(range(len(feature_importance)), feature_importance, tick_label=[\"num_items\", \"avg_price\", \"discount\", \"time_spent\"])\n",
        "plt.title(\"Feature Importance in Linear Regression Model\", weight = \"bold\", fontsize = 20)\n",
        "plt.xlabel(\"Feature\")\n",
        "plt.ylabel(\"Coefficient Value\")\n",
        "plt.show()"
      ],
      "metadata": {
        "colab": {
          "base_uri": "https://localhost:8080/",
          "height": 495
        },
        "id": "zakzkMy_Jpdm",
        "outputId": "eaa9a041-ac0e-483e-bf13-22c0d73e6767"
      },
      "execution_count": 20,
      "outputs": [
        {
          "output_type": "display_data",
          "data": {
            "text/plain": [
              "<Figure size 1000x500 with 1 Axes>"
            ],
            "image/png": "[encoded data removed]"
          },
          "metadata": {}
        }
      ]
    },
    {
      "cell_type": "markdown",
      "source": [
        "For standardized linear regression, the coefficients obtained after training the model can be directly used to determine the importance of the factors.   \n",
        "The higher the coefficient value (in absolute terms, i.e., by module), the more significant the impact of the corresponding factor on the target variable.\n",
        "\n",
        "The impact of the factors:\n",
        "1. Average item price (667.46)\n",
        "2. Number of items in cart (140.86)\n",
        "3. Discount percentage (-26.77)\n",
        "4. Time on site (-0.67).\n",
        "\n",
        "The sign of the coefficient indicates the nature of the impact (direct or inverse).\n",
        "\n",
        "So, the average price of goods in the order has the greatest impact on the average check. The average check is least affected by the amount of discount and time spent on the website."
      ],
      "metadata": {
        "id": "lD95-y8uKGqZ"
      }
    },
    {
      "cell_type": "markdown",
      "source": [
        "# 5. 🕸️ Checking Explanatory Variables for Multicollinearity"
      ],
      "metadata": {
        "id": "Kui5IbodpaiJ"
      }
    },
    {
      "cell_type": "code",
      "source": [
        "# Correlation matrix of explanatory variables\n",
        "X.corr()"
      ],
      "metadata": {
        "id": "kTu_eBrILXOe",
        "colab": {
          "base_uri": "https://localhost:8080/",
          "height": 175
        },
        "outputId": "a102ab64-6546-4a56-cd6f-bb8efe0deefc"
      },
      "execution_count": 21,
      "outputs": [
        {
          "output_type": "execute_result",
          "data": {
            "text/plain": [
              "            num_items  avg_price  discount  time_spent\n",
              "num_items    1.000000   0.711856  0.566820    0.763866\n",
              "avg_price    0.711856   1.000000  0.690811    0.835995\n",
              "discount     0.566820   0.690811  1.000000    0.729461\n",
              "time_spent   0.763866   0.835995  0.729461    1.000000"
            ],
            "text/html": [
              "\n",
              "  <div id=\"df-6fa98633-0501-4141-8183-41e446681741\" class=\"colab-df-container\">\n",
              "    <div>\n",
              "<style scoped>\n",
              "    .dataframe tbody tr th:only-of-type {\n",
              "        vertical-align: middle;\n",
              "    }\n",
              "\n",
              "    .dataframe tbody tr th {\n",
              "        vertical-align: top;\n",
              "    }\n",
              "\n",
              "    .dataframe thead th {\n",
              "        text-align: right;\n",
              "    }\n",
              "</style>\n",
              "<table border=\"1\" class=\"dataframe\">\n",
              "  <thead>\n",
              "    <tr style=\"text-align: right;\">\n",
              "      <th></th>\n",
              "      <th>num_items</th>\n",
              "      <th>avg_price</th>\n",
              "      <th>discount</th>\n",
              "      <th>time_spent</th>\n",
              "    </tr>\n",
              "  </thead>\n",
              "  <tbody>\n",
              "    <tr>\n",
              "      <th>num_items</th>\n",
              "      <td>1.000000</td>\n",
              "      <td>0.711856</td>\n",
              "      <td>0.566820</td>\n",
              "      <td>0.763866</td>\n",
              "    </tr>\n",
              "    <tr>\n",
              "      <th>avg_price</th>\n",
              "      <td>0.711856</td>\n",
              "      <td>1.000000</td>\n",
              "      <td>0.690811</td>\n",
              "      <td>0.835995</td>\n",
              "    </tr>\n",
              "    <tr>\n",
              "      <th>discount</th>\n",
              "      <td>0.566820</td>\n",
              "      <td>0.690811</td>\n",
              "      <td>1.000000</td>\n",
              "      <td>0.729461</td>\n",
              "    </tr>\n",
              "    <tr>\n",
              "      <th>time_spent</th>\n",
              "      <td>0.763866</td>\n",
              "      <td>0.835995</td>\n",
              "      <td>0.729461</td>\n",
              "      <td>1.000000</td>\n",
              "    </tr>\n",
              "  </tbody>\n",
              "</table>\n",
              "</div>\n",
              "    <div class=\"colab-df-buttons\">\n",
              "\n",
              "  <div class=\"colab-df-container\">\n",
              "    <button class=\"colab-df-convert\" onclick=\"convertToInteractive('df-6fa98633-0501-4141-8183-41e446681741')\"\n",
              "            title=\"Convert this dataframe to an interactive table.\"\n",
              "            style=\"display:none;\">\n",
              "\n",
              "  <svg xmlns=\"http://www.w3.org/2000/svg\" height=\"24px\" viewBox=\"0 -960 960 960\">\n",
              "    <path d=\"M120-120v-720h720v720H120Zm60-500h600v-160H180v160Zm220 220h160v-160H400v160Zm0 220h160v-160H400v160ZM180-400h160v-160H180v160Zm440 0h160v-160H620v160ZM180-180h160v-160H180v160Zm440 0h160v-160H620v160Z\"/>\n",
              "  </svg>\n",
              "    </button>\n",
              "\n",
              "  <style>\n",
              "    .colab-df-container {\n",
              "      display:flex;\n",
              "      gap: 12px;\n",
              "    }\n",
              "\n",
              "    .colab-df-convert {\n",
              "      background-color: #E8F0FE;\n",
              "      border: none;\n",
              "      border-radius: 50%;\n",
              "      cursor: pointer;\n",
              "      display: none;\n",
              "      fill: #1967D2;\n",
              "      height: 32px;\n",
              "      padding: 0 0 0 0;\n",
              "      width: 32px;\n",
              "    }\n",
              "\n",
              "    .colab-df-convert:hover {\n",
              "      background-color: #E2EBFA;\n",
              "      box-shadow: 0px 1px 2px rgba(60, 64, 67, 0.3), 0px 1px 3px 1px rgba(60, 64, 67, 0.15);\n",
              "      fill: #174EA6;\n",
              "    }\n",
              "\n",
              "    .colab-df-buttons div {\n",
              "      margin-bottom: 4px;\n",
              "    }\n",
              "\n",
              "    [theme=dark] .colab-df-convert {\n",
              "      background-color: #3B4455;\n",
              "      fill: #D2E3FC;\n",
              "    }\n",
              "\n",
              "    [theme=dark] .colab-df-convert:hover {\n",
              "      background-color: #434B5C;\n",
              "      box-shadow: 0px 1px 3px 1px rgba(0, 0, 0, 0.15);\n",
              "      filter: drop-shadow(0px 1px 2px rgba(0, 0, 0, 0.3));\n",
              "      fill: #FFFFFF;\n",
              "    }\n",
              "  </style>\n",
              "\n",
              "    <script>\n",
              "      const buttonEl =\n",
              "        document.querySelector('#df-6fa98633-0501-4141-8183-41e446681741 button.colab-df-convert');\n",
              "      buttonEl.style.display =\n",
              "        google.colab.kernel.accessAllowed ? 'block' : 'none';\n",
              "\n",
              "      async function convertToInteractive(key) {\n",
              "        const element = document.querySelector('#df-6fa98633-0501-4141-8183-41e446681741');\n",
              "        const dataTable =\n",
              "          await google.colab.kernel.invokeFunction('convertToInteractive',\n",
              "                                                    [key], {});\n",
              "        if (!dataTable) return;\n",
              "\n",
              "        const docLinkHtml = 'Like what you see? Visit the ' +\n",
              "          '<a target=\"_blank\" href=https://colab.research.google.com/notebooks/data_table.ipynb>data table notebook</a>'\n",
              "          + ' to learn more about interactive tables.';\n",
              "        element.innerHTML = '';\n",
              "        dataTable['output_type'] = 'display_data';\n",
              "        await google.colab.output.renderOutput(dataTable, element);\n",
              "        const docLink = document.createElement('div');\n",
              "        docLink.innerHTML = docLinkHtml;\n",
              "        element.appendChild(docLink);\n",
              "      }\n",
              "    </script>\n",
              "  </div>\n",
              "\n",
              "\n",
              "    <div id=\"df-aea0c3bb-3b96-4ed7-afc8-d42554456c6c\">\n",
              "      <button class=\"colab-df-quickchart\" onclick=\"quickchart('df-aea0c3bb-3b96-4ed7-afc8-d42554456c6c')\"\n",
              "                title=\"Suggest charts\"\n",
              "                style=\"display:none;\">\n",
              "\n",
              "<svg xmlns=\"http://www.w3.org/2000/svg\" height=\"24px\"viewBox=\"0 0 24 24\"\n",
              "     width=\"24px\">\n",
              "    <g>\n",
              "        <path d=\"M19 3H5c-1.1 0-2 .9-2 2v14c0 1.1.9 2 2 2h14c1.1 0 2-.9 2-2V5c0-1.1-.9-2-2-2zM9 17H7v-7h2v7zm4 0h-2V7h2v10zm4 0h-2v-4h2v4z\"/>\n",
              "    </g>\n",
              "</svg>\n",
              "      </button>\n",
              "\n",
              "<style>\n",
              "  .colab-df-quickchart {\n",
              "      --bg-color: #E8F0FE;\n",
              "      --fill-color: #1967D2;\n",
              "      --hover-bg-color: #E2EBFA;\n",
              "      --hover-fill-color: #174EA6;\n",
              "      --disabled-fill-color: #AAA;\n",
              "      --disabled-bg-color: #DDD;\n",
              "  }\n",
              "\n",
              "  [theme=dark] .colab-df-quickchart {\n",
              "      --bg-color: #3B4455;\n",
              "      --fill-color: #D2E3FC;\n",
              "      --hover-bg-color: #434B5C;\n",
              "      --hover-fill-color: #FFFFFF;\n",
              "      --disabled-bg-color: #3B4455;\n",
              "      --disabled-fill-color: #666;\n",
              "  }\n",
              "\n",
              "  .colab-df-quickchart {\n",
              "    background-color: var(--bg-color);\n",
              "    border: none;\n",
              "    border-radius: 50%;\n",
              "    cursor: pointer;\n",
              "    display: none;\n",
              "    fill: var(--fill-color);\n",
              "    height: 32px;\n",
              "    padding: 0;\n",
              "    width: 32px;\n",
              "  }\n",
              "\n",
              "  .colab-df-quickchart:hover {\n",
              "    background-color: var(--hover-bg-color);\n",
              "    box-shadow: 0 1px 2px rgba(60, 64, 67, 0.3), 0 1px 3px 1px rgba(60, 64, 67, 0.15);\n",
              "    fill: var(--button-hover-fill-color);\n",
              "  }\n",
              "\n",
              "  .colab-df-quickchart-complete:disabled,\n",
              "  .colab-df-quickchart-complete:disabled:hover {\n",
              "    background-color: var(--disabled-bg-color);\n",
              "    fill: var(--disabled-fill-color);\n",
              "    box-shadow: none;\n",
              "  }\n",
              "\n",
              "  .colab-df-spinner {\n",
              "    border: 2px solid var(--fill-color);\n",
              "    border-color: transparent;\n",
              "    border-bottom-color: var(--fill-color);\n",
              "    animation:\n",
              "      spin 1s steps(1) infinite;\n",
              "  }\n",
              "\n",
              "  @keyframes spin {\n",
              "    0% {\n",
              "      border-color: transparent;\n",
              "      border-bottom-color: var(--fill-color);\n",
              "      border-left-color: var(--fill-color);\n",
              "    }\n",
              "    20% {\n",
              "      border-color: transparent;\n",
              "      border-left-color: var(--fill-color);\n",
              "      border-top-color: var(--fill-color);\n",
              "    }\n",
              "    30% {\n",
              "      border-color: transparent;\n",
              "      border-left-color: var(--fill-color);\n",
              "      border-top-color: var(--fill-color);\n",
              "      border-right-color: var(--fill-color);\n",
              "    }\n",
              "    40% {\n",
              "      border-color: transparent;\n",
              "      border-right-color: var(--fill-color);\n",
              "      border-top-color: var(--fill-color);\n",
              "    }\n",
              "    60% {\n",
              "      border-color: transparent;\n",
              "      border-right-color: var(--fill-color);\n",
              "    }\n",
              "    80% {\n",
              "      border-color: transparent;\n",
              "      border-right-color: var(--fill-color);\n",
              "      border-bottom-color: var(--fill-color);\n",
              "    }\n",
              "    90% {\n",
              "      border-color: transparent;\n",
              "      border-bottom-color: var(--fill-color);\n",
              "    }\n",
              "  }\n",
              "</style>\n",
              "\n",
              "      <script>\n",
              "        async function quickchart(key) {\n",
              "          const quickchartButtonEl =\n",
              "            document.querySelector('#' + key + ' button');\n",
              "          quickchartButtonEl.disabled = true;  // To prevent multiple clicks.\n",
              "          quickchartButtonEl.classList.add('colab-df-spinner');\n",
              "          try {\n",
              "            const charts = await google.colab.kernel.invokeFunction(\n",
              "                'suggestCharts', [key], {});\n",
              "          } catch (error) {\n",
              "            console.error('Error during call to suggestCharts:', error);\n",
              "          }\n",
              "          quickchartButtonEl.classList.remove('colab-df-spinner');\n",
              "          quickchartButtonEl.classList.add('colab-df-quickchart-complete');\n",
              "        }\n",
              "        (() => {\n",
              "          let quickchartButtonEl =\n",
              "            document.querySelector('#df-aea0c3bb-3b96-4ed7-afc8-d42554456c6c button');\n",
              "          quickchartButtonEl.style.display =\n",
              "            google.colab.kernel.accessAllowed ? 'block' : 'none';\n",
              "        })();\n",
              "      </script>\n",
              "    </div>\n",
              "    </div>\n",
              "  </div>\n"
            ],
            "application/vnd.google.colaboratory.intrinsic+json": {
              "type": "dataframe",
              "summary": "{\n  \"name\": \"X\",\n  \"rows\": 4,\n  \"fields\": [\n    {\n      \"column\": \"num_items\",\n      \"properties\": {\n        \"dtype\": \"number\",\n        \"std\": 0.18004606413270297,\n        \"min\": 0.5668198517046882,\n        \"max\": 1.0,\n        \"num_unique_values\": 4,\n        \"samples\": [\n          0.7118558869957158,\n          0.7638659179036028,\n          1.0\n        ],\n        \"semantic_type\": \"\",\n        \"description\": \"\"\n      }\n    },\n    {\n      \"column\": \"avg_price\",\n      \"properties\": {\n        \"dtype\": \"number\",\n        \"std\": 0.14214268837191785,\n        \"min\": 0.6908107781039484,\n        \"max\": 1.0,\n        \"num_unique_values\": 4,\n        \"samples\": [\n          1.0,\n          0.8359950341684097,\n          0.7118558869957158\n        ],\n        \"semantic_type\": \"\",\n        \"description\": \"\"\n      }\n    },\n    {\n      \"column\": \"discount\",\n      \"properties\": {\n        \"dtype\": \"number\",\n        \"std\": 0.1825180680639686,\n        \"min\": 0.5668198517046882,\n        \"max\": 1.0,\n        \"num_unique_values\": 4,\n        \"samples\": [\n          0.6908107781039484,\n          0.7294606887854594,\n          0.5668198517046882\n        ],\n        \"semantic_type\": \"\",\n        \"description\": \"\"\n      }\n    },\n    {\n      \"column\": \"time_spent\",\n      \"properties\": {\n        \"dtype\": \"number\",\n        \"std\": 0.12027203485133015,\n        \"min\": 0.7294606887854594,\n        \"max\": 1.0,\n        \"num_unique_values\": 4,\n        \"samples\": [\n          0.8359950341684097,\n          1.0,\n          0.7638659179036028\n        ],\n        \"semantic_type\": \"\",\n        \"description\": \"\"\n      }\n    }\n  ]\n}"
            }
          },
          "metadata": {},
          "execution_count": 21
        }
      ]
    },
    {
      "cell_type": "markdown",
      "source": [
        "Since the correlation coefficients are quite big (0.56 - 0.84), there are signs of multicollinearity."
      ],
      "metadata": {
        "id": "uTs72X3Kpz83"
      }
    },
    {
      "cell_type": "markdown",
      "source": [
        "# 6. 🧮 Regularized Linear Regression Model"
      ],
      "metadata": {
        "id": "nKBm77Rhf60s"
      }
    },
    {
      "cell_type": "markdown",
      "source": [
        "## Model regularization with a **default hyperparameter**\n",
        "(Ridge and Lasso regression)"
      ],
      "metadata": {
        "id": "BCPlz9OEqmmV"
      }
    },
    {
      "cell_type": "code",
      "source": [
        "from sklearn.linear_model import Ridge, Lasso"
      ],
      "metadata": {
        "id": "7V8gvlqipwg7"
      },
      "execution_count": 22,
      "outputs": []
    },
    {
      "cell_type": "code",
      "source": [
        "# train Ridge model\n",
        "ridge = Ridge()\n",
        "ridge.fit(X_train, y_train)\n",
        "\n",
        "# evaluate Ridge model\n",
        "y_pred_ridge = ridge.predict(X_test)"
      ],
      "metadata": {
        "id": "Y82kV9O2rcw-"
      },
      "execution_count": 23,
      "outputs": []
    },
    {
      "cell_type": "code",
      "source": [
        "# train Lasso model\n",
        "lasso = Lasso()\n",
        "lasso.fit(X_train, y_train)\n",
        "\n",
        "# evaluate Ridge model\n",
        "y_pred_lasso = lasso.predict(X_test)"
      ],
      "metadata": {
        "id": "fdO6aEuJrVFV"
      },
      "execution_count": 24,
      "outputs": []
    },
    {
      "cell_type": "code",
      "source": [
        "print('MAE (Linear model without regularization):', mae)\n",
        "print(\"MSE (Linear model without regularization):\", mse)\n",
        "print(\"R^2 (Linear model without regularization):\", r2)\n",
        "\n",
        "print('\\nMAE (Ridge model):', mean_absolute_error(y_test, y_pred_ridge))\n",
        "print(\"MSE (Ridge model):\", mean_squared_error(y_test, y_pred_ridge))\n",
        "print(\"R^2 (Ridge model):\", r2_score(y_test, y_pred_ridge))\n",
        "\n",
        "print('\\nMAE (Lasso model):', mean_absolute_error(y_test, y_pred_lasso))\n",
        "print(\"MSE (Lasso model):\", mean_squared_error(y_test, y_pred_lasso))\n",
        "print(\"R^2 (Lasso model):\", r2_score(y_test, y_pred_lasso))"
      ],
      "metadata": {
        "colab": {
          "base_uri": "https://localhost:8080/"
        },
        "id": "MVeYh4q0rxrm",
        "outputId": "70df8de4-ce02-4c21-d9b6-20eb1f00089d"
      },
      "execution_count": 25,
      "outputs": [
        {
          "output_type": "stream",
          "name": "stdout",
          "text": [
            "MAE (Linear model without regularization): 152.5498638168349\n",
            "MSE (Linear model without regularization): 34036.63234071783\n",
            "R^2 (Linear model without regularization): 0.9451785923616358\n",
            "\n",
            "MAE (Ridge model): 152.207354099299\n",
            "MSE (Ridge model): 33854.76779899772\n",
            "R^2 (Ridge model): 0.9454715141194877\n",
            "\n",
            "MAE (Lasso model): 152.2620711098971\n",
            "MSE (Lasso model): 33884.03998222073\n",
            "R^2 (Lasso model): 0.9454243666146209\n"
          ]
        }
      ]
    },
    {
      "cell_type": "markdown",
      "source": [
        "Model Regularization has lead to the model improvement.\n",
        "- MSE is the least for the Ringe model\n",
        "- $R^2$ is the biggest for the Ringe model\n",
        "\n",
        "The **Ridge model** seems to be the most accurate."
      ],
      "metadata": {
        "id": "a8rzhlTLs_Os"
      }
    },
    {
      "cell_type": "markdown",
      "source": [
        "## Selection of the optimal hyperparameter for the Ridge model"
      ],
      "metadata": {
        "id": "144Lth6Zt2rv"
      }
    },
    {
      "cell_type": "code",
      "source": [
        "possible_alpha = [0.001, 0.01, 0.1, 1, 10, 100, 1000]\n",
        "\n",
        "r2_scores = []\n",
        "for alpha in possible_alpha:\n",
        "  ridges = Ridge(alpha = alpha)\n",
        "  ridges.fit(X_train, y_train)\n",
        "  y_pred_ridges = ridges.predict(X_test)\n",
        "  r2_scores.append(r2_score(y_test, y_pred_ridges))"
      ],
      "metadata": {
        "id": "keo9aDYVsJXV"
      },
      "execution_count": 26,
      "outputs": []
    },
    {
      "cell_type": "code",
      "source": [
        "# plot validation curve\n",
        "plt.plot(possible_alpha, r2_scores, marker=\"o\")\n",
        "plt.xlabel(\"alpha\")\n",
        "plt.ylabel(\"R^2 score\")\n",
        "plt.title(\"Validation curve for Ridge model\")\n",
        "plt.show()"
      ],
      "metadata": {
        "colab": {
          "base_uri": "https://localhost:8080/",
          "height": 472
        },
        "id": "iqv66xWiu0qi",
        "outputId": "2ae2fd68-dcf2-4401-8234-bb6cf1f64808"
      },
      "execution_count": 27,
      "outputs": [
        {
          "output_type": "display_data",
          "data": {
            "text/plain": [
              "<Figure size 640x480 with 1 Axes>"
            ],
            "image/png": "[encoded data removed]"
          },
          "metadata": {}
        }
      ]
    },
    {
      "cell_type": "code",
      "source": [
        "print(\"r2 scores:\", r2_scores)\n",
        "print(\"possible alpha:\", possible_alpha)"
      ],
      "metadata": {
        "colab": {
          "base_uri": "https://localhost:8080/"
        },
        "id": "7_lFUoTovR-u",
        "outputId": "2b0a4be6-40fa-4e0c-a72d-33d97f9ce552"
      },
      "execution_count": 28,
      "outputs": [
        {
          "output_type": "stream",
          "name": "stdout",
          "text": [
            "r2 scores: [0.9451788902567507, 0.9451815708580421, 0.9452083319188762, 0.9454715141194877, 0.9477188019423811, 0.9552178346168949, 0.9532222836566401]\n",
            "possible alpha: [0.001, 0.01, 0.1, 1, 10, 100, 1000]\n"
          ]
        }
      ]
    },
    {
      "cell_type": "markdown",
      "source": [
        "The most optimal value of the hyperparameter for the Ridge model is `alpha = 100` ($R^2$ is the largest then).\n",
        "\n",
        "Building Ridge model with `alpha = 100`:"
      ],
      "metadata": {
        "id": "-5oK-b7svDWD"
      }
    },
    {
      "cell_type": "code",
      "source": [
        "# train optimal Ridge model\n",
        "ridge_optimal = Ridge(alpha = 100)\n",
        "ridge_optimal.fit(X_train, y_train)\n",
        "\n",
        "# evaluate optimal Ridge model\n",
        "y_pred_ridge_optimal = ridge_optimal.predict(X_test)\n",
        "\n",
        "print(\"MAE (Ridge model):\", mean_absolute_error(y_test, y_pred_ridge_optimal))\n",
        "print(\"MSE (Ridge model):\", mean_squared_error(y_test, y_pred_ridge_optimal))\n",
        "print(\"R2 (Ridge model):\", r2_score(y_test, y_pred_ridge_optimal))\n",
        "\n",
        "# cross-validation evaluation\n",
        "scores_ridge_optimal = cross_val_score(ridge_optimal, X, y, cv=5, scoring='neg_mean_absolute_error')\n",
        "\n",
        "print(\"\\nCross-validation scores:\", scores_ridge_optimal)\n",
        "print(\"Mean MAE cross-validation score:\", scores_ridge_optimal.mean())\n",
        "\n",
        "scores_ridge_optimal = cross_val_score(ridge_optimal, X, y, cv=5, scoring='r2')\n",
        "\n",
        "print(\"\\nCross-validation scores:\", scores_ridge_optimal)\n",
        "print(\"Mean R2 cross-validation score:\", scores_ridge_optimal.mean())"
      ],
      "metadata": {
        "colab": {
          "base_uri": "https://localhost:8080/"
        },
        "id": "RtltNb0nu2Zv",
        "outputId": "0e3852e0-e9a7-4ec7-b742-e943f87b3dc5"
      },
      "execution_count": 29,
      "outputs": [
        {
          "output_type": "stream",
          "name": "stdout",
          "text": [
            "MAE (Ridge model): 140.6013603366395\n",
            "MSE (Ridge model): 27803.629352620006\n",
            "R2 (Ridge model): 0.9552178346168949\n",
            "\n",
            "Cross-validation scores: [-148.5478855  -104.43943201 -155.71634796 -123.24133578 -136.16223785]\n",
            "Mean MAE cross-validation score: -133.62144782145592\n",
            "\n",
            "Cross-validation scores: [0.87647507 0.96296053 0.94547626 0.94834527 0.95564847]\n",
            "Mean R2 cross-validation score: 0.937781118691951\n"
          ]
        }
      ]
    },
    {
      "cell_type": "markdown",
      "source": [
        "The result has improved compared to the previous one and is also better than the model without regularization."
      ],
      "metadata": {
        "id": "x6Mt4Ac5w1Kl"
      }
    },
    {
      "cell_type": "markdown",
      "source": [
        "## Selection of the optimal hyperparameter for the Lasso model"
      ],
      "metadata": {
        "id": "SpgdJbvww9ud"
      }
    },
    {
      "cell_type": "code",
      "source": [
        "r2_scores_lasso = []\n",
        "for alpha in possible_alpha:\n",
        "  lassos = Lasso(alpha = alpha)\n",
        "  lassos.fit(X_train, y_train)\n",
        "  y_pred_lassos = lassos.predict(X_test)\n",
        "  r2_scores_lasso.append(r2_score(y_test, y_pred_lassos))"
      ],
      "metadata": {
        "id": "IPa2p31lwEfi"
      },
      "execution_count": 30,
      "outputs": []
    },
    {
      "cell_type": "code",
      "source": [
        "# plot validation curve\n",
        "plt.plot(possible_alpha, r2_scores_lasso, marker=\"o\")\n",
        "plt.xlabel(\"alpha\")\n",
        "plt.ylabel(\"R2 score\")\n",
        "plt.title(\"Validation curve for Lasso model\")\n",
        "plt.show()"
      ],
      "metadata": {
        "colab": {
          "base_uri": "https://localhost:8080/",
          "height": 472
        },
        "id": "fMz4xc1CxPxR",
        "outputId": "9896d331-f639-419c-b8d4-7d11ece3c751"
      },
      "execution_count": 31,
      "outputs": [
        {
          "output_type": "display_data",
          "data": {
            "text/plain": [
              "<Figure size 640x480 with 1 Axes>"
            ],
            "image/png": "[encoded data removed]"
          },
          "metadata": {}
        }
      ]
    },
    {
      "cell_type": "code",
      "source": [
        "print(\"r2 scores:\", r2_scores_lasso)\n",
        "print(\"possible alpha:\", possible_alpha)"
      ],
      "metadata": {
        "colab": {
          "base_uri": "https://localhost:8080/"
        },
        "id": "0qWZJ-ykxVqH",
        "outputId": "92c38ab5-8e69-4b21-b370-bc918d07e49a"
      },
      "execution_count": 32,
      "outputs": [
        {
          "output_type": "stream",
          "name": "stdout",
          "text": [
            "r2 scores: [0.9451788969356408, 0.9451816370638395, 0.9452089839685629, 0.9454243666146209, 0.9462329310345855, 0.9489635566659039, 0.9470674011696112]\n",
            "possible alpha: [0.001, 0.01, 0.1, 1, 10, 100, 1000]\n"
          ]
        }
      ]
    },
    {
      "cell_type": "markdown",
      "source": [
        "The most optimal value of the hyperparameter for the Lasso model is `alpha = 100` (R^2 is the largest then).\n",
        "\n",
        "Building Lasso model with `alpha = 100`:"
      ],
      "metadata": {
        "id": "fuyM5sqBxgPj"
      }
    },
    {
      "cell_type": "code",
      "source": [
        "# train optimal Lasso model\n",
        "lasso_optimal = Lasso(alpha = 100)\n",
        "lasso_optimal.fit(X_train, y_train)\n",
        "\n",
        "# evaluate optimal Lasso model\n",
        "y_pred_lasso_optimal = lasso_optimal.predict(X_test)\n",
        "\n",
        "print(\"MAE (Lasso model):\", mean_absolute_error(y_test, y_pred_lasso_optimal))\n",
        "print(\"MSE (Lasso model):\", mean_squared_error(y_test, y_pred_lasso_optimal))\n",
        "print(\"R2 (Lasso model):\", r2_score(y_test, y_pred_lasso_optimal))\n",
        "\n",
        "# cross-validation evaluation\n",
        "scores_lasso_optimal = cross_val_score(lasso_optimal, X, y, cv=5, scoring='neg_mean_absolute_error')\n",
        "\n",
        "print(\"\\nCross-validation scores:\", scores_lasso_optimal)\n",
        "print(\"Mean MAE cross-validation score:\", scores_lasso_optimal.mean())\n",
        "\n",
        "scores_lasso_optimal = cross_val_score(lasso_optimal, X, y, cv=5, scoring='r2')\n",
        "\n",
        "print(\"\\nCross-validation scores:\", scores_lasso_optimal)\n",
        "print(\"Mean R2 cross-validation score:\", scores_lasso_optimal.mean())"
      ],
      "metadata": {
        "colab": {
          "base_uri": "https://localhost:8080/"
        },
        "id": "Zp8Fj_d3xbes",
        "outputId": "0c3b3368-2fcb-44f2-e3e9-62d82b6b3084"
      },
      "execution_count": null,
      "outputs": [
        {
          "output_type": "stream",
          "name": "stdout",
          "text": [
            "MAE (Lasso model): 150.65477515954578\n",
            "MSE (Lasso model): 31686.684683464282\n",
            "R2 (Lasso model): 0.9489635566659039\n",
            "\n",
            "Cross-validation scores: [-156.67320458 -108.81129446 -157.17373446 -119.41047472 -132.2637588 ]\n",
            "Mean MAE cross-validation score: -134.8664934036819\n",
            "\n",
            "Cross-validation scores: [0.86844523 0.96192776 0.94070546 0.95090849 0.95745441]\n",
            "Mean R2 cross-validation score: 0.9358882706536924\n"
          ]
        }
      ]
    },
    {
      "cell_type": "markdown",
      "source": [
        "The result has improved compared to the previous Lasso model and is also better than the model without regularization, but worse than the optimal Ridge model."
      ],
      "metadata": {
        "id": "c4FDw4pjx25U"
      }
    },
    {
      "cell_type": "code",
      "source": [
        "# Lasso coefficients\n",
        "print(\"Lasso coefficients:\", lasso_optimal.coef_)"
      ],
      "metadata": {
        "colab": {
          "base_uri": "https://localhost:8080/"
        },
        "id": "dHZi_j8-xwpr",
        "outputId": "d65236b4-27fb-4bf4-b50e-5e8313aefe03"
      },
      "execution_count": null,
      "outputs": [
        {
          "output_type": "stream",
          "name": "stdout",
          "text": [
            "Lasso coefficients: [29.11511062  7.42907107 -0.          0.        ]\n"
          ]
        }
      ]
    },
    {
      "cell_type": "markdown",
      "source": [
        "In this model, the last two coefficients are close to zero (`discount` and `time_spent`), while all other explanatory variables are considered important by the model."
      ],
      "metadata": {
        "id": "CPkP7pGQyYK_"
      }
    },
    {
      "cell_type": "markdown",
      "source": [
        "# 7. 📌 Conclusions"
      ],
      "metadata": {
        "id": "AUh3a4JqldFb"
      }
    },
    {
      "cell_type": "markdown",
      "source": [
        "1) For standardized linear regression, the coefficients obtained after training the model can be directly used to determine the importance of the factors.   \n",
        "\n",
        "  The impact of the factors:\n",
        "1. Average item price (667.46)\n",
        "2. Number of items in cart (140.86)\n",
        "3. Discount percentage (-26.77)\n",
        "4. Time on site (-0.67).\n",
        "\n",
        "The sign of the coefficient indicates the nature of the impact (direct or inverse).\n",
        "\n",
        "So, the average price of goods in the order has the greatest impact on the average check. The average check is least affected by the amount of discount and time spent on the website."
      ],
      "metadata": {
        "id": "Q3SqjS_ilyt_"
      }
    },
    {
      "cell_type": "markdown",
      "source": [
        "2) Based on the correlation matrix analysis, there are signs of multicollinearity."
      ],
      "metadata": {
        "id": "t6M7l1MgmkPI"
      }
    },
    {
      "cell_type": "markdown",
      "source": [
        "3) The most accurate regularization model is the **Ridge model** with a hyperparameter `alpha` = 100.  \n",
        "For the most accurate Lasso model, *discount percentage* and *time on site* coefficients are close to zero, while *number of items in cart* and *average item price* are considered important by the model."
      ],
      "metadata": {
        "id": "PGgdO-u6mFEM"
      }
    },
    {
      "cell_type": "code",
      "source": [],
      "metadata": {
        "id": "sms53y8iySOG"
      },
      "execution_count": null,
      "outputs": []
    }
  ]
}