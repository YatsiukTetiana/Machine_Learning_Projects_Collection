{
  "nbformat": 4,
  "nbformat_minor": 0,
  "metadata": {
    "colab": {
      "provenance": []
    },
    "kernelspec": {
      "name": "python3",
      "display_name": "Python 3"
    },
    "language_info": {
      "name": "python"
    }
  },
  "cells": [
    {
      "cell_type": "markdown",
      "source": [
        "# Predicting Revenue Based on Time Spent Online\n",
        "\n",
        "Created by **Tetiana Yatsiuk**  \n",
        "✉️ *Email:*  tet.yatsiuk@gmail.com  \n",
        "🔗 [*LinkedIn*](www.linkedin.com/in/tetianayatsiuk)   , 💻 [*GitHub*](https://github.com/YatsiukTetiana)"
      ],
      "metadata": {
        "id": "kJwut2Bnt0Tw"
      }
    },
    {
      "cell_type": "markdown",
      "source": [
        "# 🗂️ Project Summary"
      ],
      "metadata": {
        "id": "-6QYyLqb2InX"
      }
    },
    {
      "cell_type": "markdown",
      "source": [
        "**Objectives**\n",
        "- Model the relationship between **time spent online** and **customer purchase value**.\n",
        "- Develop a **linear regression model** to predict revenue based on user engagement.\n",
        "- Assess model performance using multiple **error metrics** and identify the most relevant one for business insights.\n",
        "\n",
        "**Tools Used**\n",
        "- Python (pandas, numpy, seaborn, matplotlib);\n",
        "- Python sklearn:\n",
        "   - `LinearRegression`\n",
        "   - `train_test_split`\n",
        "   - `metrics` (`mean_absolute_error`, `mean_squared_error`, `root_mean_squared_error`, `r2_score`)\n",
        "   - `cross_val_score`\n",
        "- Markdown."
      ],
      "metadata": {
        "id": "PNUTaCZD1dog"
      }
    },
    {
      "cell_type": "markdown",
      "source": [
        "# 1. 🔢 Initial Data"
      ],
      "metadata": {
        "id": "eGKhPcdFrxwG"
      }
    },
    {
      "cell_type": "markdown",
      "source": [
        "Creating a dataframe from the input data:"
      ],
      "metadata": {
        "id": "7Ag-Aolv2btn"
      }
    },
    {
      "cell_type": "code",
      "execution_count": 1,
      "metadata": {
        "id": "9r1RvOWEtxQ2"
      },
      "outputs": [],
      "source": [
        "import pandas as pd\n",
        "\n",
        "data = {\n",
        "    \"time_on_site\": [\n",
        "        29.1, 24.7, 17.6, 2.8, 45.4, 31.7, 48.2, 40.5, 15.7, 30.6, 25.2, 24.3,\n",
        "        42.7, 25.6, 45.0, 24.2, 24.2, 47.4, 34.5, 47.1, 30.4, 26.6, 9.5, 3.2,\n",
        "        30.4, 32.4, 19.8, 41.2, 40.1, 29.0, 42.0, 29.4, 10.8, 15.0, 20.5, 15.1,\n",
        "        17.8, 37.4, 24.9, 43.3, 7.4, 15.4, 23.3, 41.0, 35.6, 41.4, 18.9, 40.2,\n",
        "        33.0, 3.0\n",
        "    ],\n",
        "    \"purchase_value\": [\n",
        "        396.1, 318.7, 112.3, 163.4, 624.1, 378.0, 689.4, 551.3, 234.3, 413.3,\n",
        "        334.9, 351.1, 512.8, 265.4, 636.4, 356.7, 251.6, 620.6, 398.5, 551.6,\n",
        "        493.9, 330.9, 174.2, 7.0, 368.3, 335.4, 308.5, 567.0, 535.9, 311.0,\n",
        "        584.1, 428.4, 107.3, 221.1, 264.5, 242.2, 316.1, 498.3, 323.8, 495.6,\n",
        "        115.9, 132.3, 238.3, 553.2, 307.4, 494.6, 234.6, 497.5, 424.1, 164.1\n",
        "    ]\n",
        "}\n",
        "\n",
        "df = pd.DataFrame(data)"
      ]
    },
    {
      "cell_type": "markdown",
      "source": [
        "Dataframe preview"
      ],
      "metadata": {
        "id": "EC7fDDi92qM2"
      }
    },
    {
      "cell_type": "code",
      "source": [
        "df.head()"
      ],
      "metadata": {
        "colab": {
          "base_uri": "https://localhost:8080/",
          "height": 206
        },
        "id": "17Mkh08q2mwz",
        "outputId": "77657167-3be8-4863-ec75-d6f2970e10ce"
      },
      "execution_count": 2,
      "outputs": [
        {
          "output_type": "execute_result",
          "data": {
            "text/plain": [
              "   time_on_site  purchase_value\n",
              "0          29.1           396.1\n",
              "1          24.7           318.7\n",
              "2          17.6           112.3\n",
              "3           2.8           163.4\n",
              "4          45.4           624.1"
            ],
            "text/html": [
              "\n",
              "  <div id=\"df-a6f64364-be16-46b9-876b-efc0e53e15b4\" class=\"colab-df-container\">\n",
              "    <div>\n",
              "<style scoped>\n",
              "    .dataframe tbody tr th:only-of-type {\n",
              "        vertical-align: middle;\n",
              "    }\n",
              "\n",
              "    .dataframe tbody tr th {\n",
              "        vertical-align: top;\n",
              "    }\n",
              "\n",
              "    .dataframe thead th {\n",
              "        text-align: right;\n",
              "    }\n",
              "</style>\n",
              "<table border=\"1\" class=\"dataframe\">\n",
              "  <thead>\n",
              "    <tr style=\"text-align: right;\">\n",
              "      <th></th>\n",
              "      <th>time_on_site</th>\n",
              "      <th>purchase_value</th>\n",
              "    </tr>\n",
              "  </thead>\n",
              "  <tbody>\n",
              "    <tr>\n",
              "      <th>0</th>\n",
              "      <td>29.1</td>\n",
              "      <td>396.1</td>\n",
              "    </tr>\n",
              "    <tr>\n",
              "      <th>1</th>\n",
              "      <td>24.7</td>\n",
              "      <td>318.7</td>\n",
              "    </tr>\n",
              "    <tr>\n",
              "      <th>2</th>\n",
              "      <td>17.6</td>\n",
              "      <td>112.3</td>\n",
              "    </tr>\n",
              "    <tr>\n",
              "      <th>3</th>\n",
              "      <td>2.8</td>\n",
              "      <td>163.4</td>\n",
              "    </tr>\n",
              "    <tr>\n",
              "      <th>4</th>\n",
              "      <td>45.4</td>\n",
              "      <td>624.1</td>\n",
              "    </tr>\n",
              "  </tbody>\n",
              "</table>\n",
              "</div>\n",
              "    <div class=\"colab-df-buttons\">\n",
              "\n",
              "  <div class=\"colab-df-container\">\n",
              "    <button class=\"colab-df-convert\" onclick=\"convertToInteractive('df-a6f64364-be16-46b9-876b-efc0e53e15b4')\"\n",
              "            title=\"Convert this dataframe to an interactive table.\"\n",
              "            style=\"display:none;\">\n",
              "\n",
              "  <svg xmlns=\"http://www.w3.org/2000/svg\" height=\"24px\" viewBox=\"0 -960 960 960\">\n",
              "    <path d=\"M120-120v-720h720v720H120Zm60-500h600v-160H180v160Zm220 220h160v-160H400v160Zm0 220h160v-160H400v160ZM180-400h160v-160H180v160Zm440 0h160v-160H620v160ZM180-180h160v-160H180v160Zm440 0h160v-160H620v160Z\"/>\n",
              "  </svg>\n",
              "    </button>\n",
              "\n",
              "  <style>\n",
              "    .colab-df-container {\n",
              "      display:flex;\n",
              "      gap: 12px;\n",
              "    }\n",
              "\n",
              "    .colab-df-convert {\n",
              "      background-color: #E8F0FE;\n",
              "      border: none;\n",
              "      border-radius: 50%;\n",
              "      cursor: pointer;\n",
              "      display: none;\n",
              "      fill: #1967D2;\n",
              "      height: 32px;\n",
              "      padding: 0 0 0 0;\n",
              "      width: 32px;\n",
              "    }\n",
              "\n",
              "    .colab-df-convert:hover {\n",
              "      background-color: #E2EBFA;\n",
              "      box-shadow: 0px 1px 2px rgba(60, 64, 67, 0.3), 0px 1px 3px 1px rgba(60, 64, 67, 0.15);\n",
              "      fill: #174EA6;\n",
              "    }\n",
              "\n",
              "    .colab-df-buttons div {\n",
              "      margin-bottom: 4px;\n",
              "    }\n",
              "\n",
              "    [theme=dark] .colab-df-convert {\n",
              "      background-color: #3B4455;\n",
              "      fill: #D2E3FC;\n",
              "    }\n",
              "\n",
              "    [theme=dark] .colab-df-convert:hover {\n",
              "      background-color: #434B5C;\n",
              "      box-shadow: 0px 1px 3px 1px rgba(0, 0, 0, 0.15);\n",
              "      filter: drop-shadow(0px 1px 2px rgba(0, 0, 0, 0.3));\n",
              "      fill: #FFFFFF;\n",
              "    }\n",
              "  </style>\n",
              "\n",
              "    <script>\n",
              "      const buttonEl =\n",
              "        document.querySelector('#df-a6f64364-be16-46b9-876b-efc0e53e15b4 button.colab-df-convert');\n",
              "      buttonEl.style.display =\n",
              "        google.colab.kernel.accessAllowed ? 'block' : 'none';\n",
              "\n",
              "      async function convertToInteractive(key) {\n",
              "        const element = document.querySelector('#df-a6f64364-be16-46b9-876b-efc0e53e15b4');\n",
              "        const dataTable =\n",
              "          await google.colab.kernel.invokeFunction('convertToInteractive',\n",
              "                                                    [key], {});\n",
              "        if (!dataTable) return;\n",
              "\n",
              "        const docLinkHtml = 'Like what you see? Visit the ' +\n",
              "          '<a target=\"_blank\" href=https://colab.research.google.com/notebooks/data_table.ipynb>data table notebook</a>'\n",
              "          + ' to learn more about interactive tables.';\n",
              "        element.innerHTML = '';\n",
              "        dataTable['output_type'] = 'display_data';\n",
              "        await google.colab.output.renderOutput(dataTable, element);\n",
              "        const docLink = document.createElement('div');\n",
              "        docLink.innerHTML = docLinkHtml;\n",
              "        element.appendChild(docLink);\n",
              "      }\n",
              "    </script>\n",
              "  </div>\n",
              "\n",
              "\n",
              "    <div id=\"df-210c4f1e-83ec-46ed-9864-a052e07fc572\">\n",
              "      <button class=\"colab-df-quickchart\" onclick=\"quickchart('df-210c4f1e-83ec-46ed-9864-a052e07fc572')\"\n",
              "                title=\"Suggest charts\"\n",
              "                style=\"display:none;\">\n",
              "\n",
              "<svg xmlns=\"http://www.w3.org/2000/svg\" height=\"24px\"viewBox=\"0 0 24 24\"\n",
              "     width=\"24px\">\n",
              "    <g>\n",
              "        <path d=\"M19 3H5c-1.1 0-2 .9-2 2v14c0 1.1.9 2 2 2h14c1.1 0 2-.9 2-2V5c0-1.1-.9-2-2-2zM9 17H7v-7h2v7zm4 0h-2V7h2v10zm4 0h-2v-4h2v4z\"/>\n",
              "    </g>\n",
              "</svg>\n",
              "      </button>\n",
              "\n",
              "<style>\n",
              "  .colab-df-quickchart {\n",
              "      --bg-color: #E8F0FE;\n",
              "      --fill-color: #1967D2;\n",
              "      --hover-bg-color: #E2EBFA;\n",
              "      --hover-fill-color: #174EA6;\n",
              "      --disabled-fill-color: #AAA;\n",
              "      --disabled-bg-color: #DDD;\n",
              "  }\n",
              "\n",
              "  [theme=dark] .colab-df-quickchart {\n",
              "      --bg-color: #3B4455;\n",
              "      --fill-color: #D2E3FC;\n",
              "      --hover-bg-color: #434B5C;\n",
              "      --hover-fill-color: #FFFFFF;\n",
              "      --disabled-bg-color: #3B4455;\n",
              "      --disabled-fill-color: #666;\n",
              "  }\n",
              "\n",
              "  .colab-df-quickchart {\n",
              "    background-color: var(--bg-color);\n",
              "    border: none;\n",
              "    border-radius: 50%;\n",
              "    cursor: pointer;\n",
              "    display: none;\n",
              "    fill: var(--fill-color);\n",
              "    height: 32px;\n",
              "    padding: 0;\n",
              "    width: 32px;\n",
              "  }\n",
              "\n",
              "  .colab-df-quickchart:hover {\n",
              "    background-color: var(--hover-bg-color);\n",
              "    box-shadow: 0 1px 2px rgba(60, 64, 67, 0.3), 0 1px 3px 1px rgba(60, 64, 67, 0.15);\n",
              "    fill: var(--button-hover-fill-color);\n",
              "  }\n",
              "\n",
              "  .colab-df-quickchart-complete:disabled,\n",
              "  .colab-df-quickchart-complete:disabled:hover {\n",
              "    background-color: var(--disabled-bg-color);\n",
              "    fill: var(--disabled-fill-color);\n",
              "    box-shadow: none;\n",
              "  }\n",
              "\n",
              "  .colab-df-spinner {\n",
              "    border: 2px solid var(--fill-color);\n",
              "    border-color: transparent;\n",
              "    border-bottom-color: var(--fill-color);\n",
              "    animation:\n",
              "      spin 1s steps(1) infinite;\n",
              "  }\n",
              "\n",
              "  @keyframes spin {\n",
              "    0% {\n",
              "      border-color: transparent;\n",
              "      border-bottom-color: var(--fill-color);\n",
              "      border-left-color: var(--fill-color);\n",
              "    }\n",
              "    20% {\n",
              "      border-color: transparent;\n",
              "      border-left-color: var(--fill-color);\n",
              "      border-top-color: var(--fill-color);\n",
              "    }\n",
              "    30% {\n",
              "      border-color: transparent;\n",
              "      border-left-color: var(--fill-color);\n",
              "      border-top-color: var(--fill-color);\n",
              "      border-right-color: var(--fill-color);\n",
              "    }\n",
              "    40% {\n",
              "      border-color: transparent;\n",
              "      border-right-color: var(--fill-color);\n",
              "      border-top-color: var(--fill-color);\n",
              "    }\n",
              "    60% {\n",
              "      border-color: transparent;\n",
              "      border-right-color: var(--fill-color);\n",
              "    }\n",
              "    80% {\n",
              "      border-color: transparent;\n",
              "      border-right-color: var(--fill-color);\n",
              "      border-bottom-color: var(--fill-color);\n",
              "    }\n",
              "    90% {\n",
              "      border-color: transparent;\n",
              "      border-bottom-color: var(--fill-color);\n",
              "    }\n",
              "  }\n",
              "</style>\n",
              "\n",
              "      <script>\n",
              "        async function quickchart(key) {\n",
              "          const quickchartButtonEl =\n",
              "            document.querySelector('#' + key + ' button');\n",
              "          quickchartButtonEl.disabled = true;  // To prevent multiple clicks.\n",
              "          quickchartButtonEl.classList.add('colab-df-spinner');\n",
              "          try {\n",
              "            const charts = await google.colab.kernel.invokeFunction(\n",
              "                'suggestCharts', [key], {});\n",
              "          } catch (error) {\n",
              "            console.error('Error during call to suggestCharts:', error);\n",
              "          }\n",
              "          quickchartButtonEl.classList.remove('colab-df-spinner');\n",
              "          quickchartButtonEl.classList.add('colab-df-quickchart-complete');\n",
              "        }\n",
              "        (() => {\n",
              "          let quickchartButtonEl =\n",
              "            document.querySelector('#df-210c4f1e-83ec-46ed-9864-a052e07fc572 button');\n",
              "          quickchartButtonEl.style.display =\n",
              "            google.colab.kernel.accessAllowed ? 'block' : 'none';\n",
              "        })();\n",
              "      </script>\n",
              "    </div>\n",
              "    </div>\n",
              "  </div>\n"
            ],
            "application/vnd.google.colaboratory.intrinsic+json": {
              "type": "dataframe",
              "variable_name": "df",
              "summary": "{\n  \"name\": \"df\",\n  \"rows\": 50,\n  \"fields\": [\n    {\n      \"column\": \"time_on_site\",\n      \"properties\": {\n        \"dtype\": \"number\",\n        \"std\": 12.56178607474889,\n        \"min\": 2.8,\n        \"max\": 48.2,\n        \"num_unique_values\": 48,\n        \"samples\": [\n          29.0,\n          23.3,\n          40.1\n        ],\n        \"semantic_type\": \"\",\n        \"description\": \"\"\n      }\n    },\n    {\n      \"column\": \"purchase_value\",\n      \"properties\": {\n        \"dtype\": \"number\",\n        \"std\": 161.86279652211368,\n        \"min\": 7.0,\n        \"max\": 689.4,\n        \"num_unique_values\": 50,\n        \"samples\": [\n          265.4,\n          495.6,\n          584.1\n        ],\n        \"semantic_type\": \"\",\n        \"description\": \"\"\n      }\n    }\n  ]\n}"
            }
          },
          "metadata": {},
          "execution_count": 2
        }
      ]
    },
    {
      "cell_type": "markdown",
      "source": [
        "# 2. 📈 Scatterplot and Linear Regression"
      ],
      "metadata": {
        "id": "d3dZeczEr4cy"
      }
    },
    {
      "cell_type": "markdown",
      "source": [
        "Building a scatter plot for input data, assessing the type of dependence."
      ],
      "metadata": {
        "id": "n1CP-JiG7t1x"
      }
    },
    {
      "cell_type": "code",
      "source": [
        "import matplotlib.pyplot as plt\n",
        "import seaborn as sns\n",
        "\n",
        "plt.figure()\n",
        "sns.scatterplot(data = df, x = df['time_on_site'], y = df['purchase_value'])\n",
        "\n",
        "plt.title(\"Data Scatterplot\", weight = \"bold\", fontsize = 20)\n",
        "plt.xlabel(\"Time on Site\")\n",
        "plt.ylabel(\"Purchase Value, ($)\")\n",
        "plt.tight_layout()\n",
        "\n",
        "plt.show()"
      ],
      "metadata": {
        "colab": {
          "base_uri": "https://localhost:8080/",
          "height": 487
        },
        "id": "Cg4R8iRJq5wu",
        "outputId": "9df2088e-7b15-4492-a976-75249e71fd75"
      },
      "execution_count": 4,
      "outputs": [
        {
          "output_type": "display_data",
          "data": {
            "text/plain": [
              "<Figure size 640x480 with 1 Axes>"
            ],
            "image/png": "[encoded data removed]"
          },
          "metadata": {}
        }
      ]
    },
    {
      "cell_type": "markdown",
      "source": [
        "The relationship is similar to a linear one. Drawing the line on the scatterplot to highlight the linear dependance:"
      ],
      "metadata": {
        "id": "Tf7T0UIQ78oD"
      }
    },
    {
      "cell_type": "code",
      "source": [
        "# Regression Line\n",
        "\n",
        "plt.figure()\n",
        "\n",
        "sns.lmplot(data = df, x = 'time_on_site', y = 'purchase_value', ci = None)\n",
        "plt.title(\"Data Scatterplot\", weight = \"bold\", fontsize = 20)\n",
        "plt.xlabel(\"Time on Site\")\n",
        "plt.ylabel(\"Purchase Value, ($)\")\n",
        "plt.tight_layout()\n",
        "\n",
        "plt.show()"
      ],
      "metadata": {
        "colab": {
          "base_uri": "https://localhost:8080/",
          "height": 523
        },
        "id": "0y3SFkberqr-",
        "outputId": "cc466af9-7a23-4bf0-94f6-dc739230fd27"
      },
      "execution_count": 8,
      "outputs": [
        {
          "output_type": "display_data",
          "data": {
            "text/plain": [
              "<Figure size 640x480 with 0 Axes>"
            ]
          },
          "metadata": {}
        },
        {
          "output_type": "display_data",
          "data": {
            "text/plain": [
              "<Figure size 500x500 with 1 Axes>"
            ],
            "image/png": "[encoded data removed]"
          },
          "metadata": {}
        }
      ]
    },
    {
      "cell_type": "markdown",
      "source": [
        "Creating a linear regression model and plotting a regression line on the scatterplot:"
      ],
      "metadata": {
        "id": "pFwozcgV-_3K"
      }
    },
    {
      "cell_type": "code",
      "source": [
        "# Regression Model\n",
        "\n",
        "from sklearn.linear_model import LinearRegression\n",
        "\n",
        "# Data for model\n",
        "X = df[['time_on_site']]\n",
        "y = df['purchase_value']\n",
        "\n",
        "# Model traiing\n",
        "model = LinearRegression()\n",
        "model.fit(X, y)\n",
        "\n",
        "# Prediction\n",
        "y_pred = model.predict(X)\n",
        "\n",
        "# Visualization\n",
        "plt.scatter(X, y, color = \"blue\", label = \"Real Data\")\n",
        "plt.plot(X, y_pred, color = \"red\", label = \"Regression Line\")\n",
        "\n",
        "plt.title(\"Data Scatterplot with Regression Line\", weight = \"bold\", fontsize = 20)\n",
        "plt.xlabel(\"Time on Site\")\n",
        "plt.ylabel(\"Purchase Value, ($)\")\n",
        "plt.tight_layout()\n",
        "plt.legend()\n",
        "\n",
        "plt.show()"
      ],
      "metadata": {
        "colab": {
          "base_uri": "https://localhost:8080/",
          "height": 487
        },
        "id": "wH7WKa0Iy4PQ",
        "outputId": "ba64cee7-e872-4414-af67-90ad1b8216bc"
      },
      "execution_count": 7,
      "outputs": [
        {
          "output_type": "display_data",
          "data": {
            "text/plain": [
              "<Figure size 640x480 with 1 Axes>"
            ],
            "image/png": "[encoded data removed]"
          },
          "metadata": {}
        }
      ]
    },
    {
      "cell_type": "code",
      "source": [
        "# Coefficients of a linear regression model\n",
        "\n",
        "print(f\"Model Coefficients:\\n w_0: {model.intercept_}\\n w_1:{model.coef_}\")"
      ],
      "metadata": {
        "colab": {
          "base_uri": "https://localhost:8080/"
        },
        "id": "c2AKvwIa1QFq",
        "outputId": "dbb36194-a696-4569-dfb8-8e82d4f08d43"
      },
      "execution_count": 10,
      "outputs": [
        {
          "output_type": "stream",
          "name": "stdout",
          "text": [
            "Model Coefficients:\n",
            " w_0: 25.33830657160871\n",
            " w_1:[12.08193996]\n"
          ]
        }
      ]
    },
    {
      "cell_type": "markdown",
      "source": [
        "# 3. ✂️ Training and Test Data"
      ],
      "metadata": {
        "id": "ogVip5hRtQxg"
      }
    },
    {
      "cell_type": "markdown",
      "source": [
        "Splitting the dataset into training and test data. Test data contains 30% of the general data."
      ],
      "metadata": {
        "id": "p750d3i1B4yH"
      }
    },
    {
      "cell_type": "code",
      "source": [
        "from sklearn.model_selection import train_test_split\n",
        "\n",
        "X_train, X_test, y_train, y_test = train_test_split(X, y, test_size = 0.3, random_state = 101)\n",
        "\n",
        "print(\"Train data:\\n\", y_train.index)\n",
        "print(\"Test data:\\n\", y_test.index)"
      ],
      "metadata": {
        "colab": {
          "base_uri": "https://localhost:8080/"
        },
        "id": "XsWR8hNvs6vy",
        "outputId": "1337b1dd-37a9-4e11-9de7-ea1f2ad9cf15"
      },
      "execution_count": null,
      "outputs": [
        {
          "output_type": "stream",
          "name": "stdout",
          "text": [
            "Train data:\n",
            " Index([ 3, 41, 30, 15, 20, 43, 38, 44, 39, 10, 49, 25, 33, 36,  2, 27, 34, 35,\n",
            "        8, 19, 29, 12,  5,  0, 28,  4, 40, 13,  9, 48, 23,  6, 17, 11, 31],\n",
            "      dtype='int64')\n",
            "Test data:\n",
            " Index([37, 14, 21, 32, 22, 1, 26, 46, 42, 47, 16, 24, 7, 45, 18], dtype='int64')\n"
          ]
        }
      ]
    },
    {
      "cell_type": "markdown",
      "source": [
        "# 4. 🧠 Model Training"
      ],
      "metadata": {
        "id": "60LHOGUR19A_"
      }
    },
    {
      "cell_type": "markdown",
      "source": [
        "Training a linear model on training data and prediction on test data."
      ],
      "metadata": {
        "id": "y5-GL6t7CRsm"
      }
    },
    {
      "cell_type": "code",
      "source": [
        "model = LinearRegression()\n",
        "model.fit(X_train, y_train)\n",
        "\n",
        "# Prediction\n",
        "y_pred = model.predict(X_test)"
      ],
      "metadata": {
        "id": "ijDX4gtM18XV"
      },
      "execution_count": null,
      "outputs": []
    },
    {
      "cell_type": "markdown",
      "source": [
        "# 5. 📊 Calculating MAE, MSE, RMSE та $R^2$ (Test Data)"
      ],
      "metadata": {
        "id": "GrK-Na3f39Mg"
      }
    },
    {
      "cell_type": "markdown",
      "source": [
        "Metric calculation to evaluate the quality of predictions on a test dataset."
      ],
      "metadata": {
        "id": "vwrwMXa3CrOW"
      }
    },
    {
      "cell_type": "code",
      "source": [
        "from sklearn.metrics import mean_absolute_error\n",
        "from sklearn.metrics import mean_squared_error\n",
        "from sklearn.metrics import root_mean_squared_error\n",
        "from sklearn.metrics import r2_score"
      ],
      "metadata": {
        "id": "QMgLmSuK3n-I"
      },
      "execution_count": null,
      "outputs": []
    },
    {
      "cell_type": "code",
      "source": [
        "mae = mean_absolute_error(y_test, y_pred)\n",
        "mse = mean_squared_error(y_test, y_pred)\n",
        "rmse = root_mean_squared_error(y_test, y_pred)\n",
        "r2 = r2_score(y_test, y_pred)\n",
        "\n",
        "print(\"MAE:\", mae)\n",
        "print(\"MSE:\", mse)\n",
        "print(\"RMSE:\", rmse)\n",
        "print(\"R2:\", r2)"
      ],
      "metadata": {
        "colab": {
          "base_uri": "https://localhost:8080/"
        },
        "id": "2I82aLvx46xW",
        "outputId": "5c0df497-60f9-45c7-ea51-0a3099682602"
      },
      "execution_count": null,
      "outputs": [
        {
          "output_type": "stream",
          "name": "stdout",
          "text": [
            "MAE: 37.45947343426997\n",
            "MSE: 1812.4240202659041\n",
            "RMSE: 42.57257356874146\n",
            "R2: 0.9141191309626138\n"
          ]
        }
      ]
    },
    {
      "cell_type": "markdown",
      "source": [
        "While evaluating the model on the test sample, an $R^2$ of `0.91` was obtained, which is a good result. The model has high accuracy. However, it would be more reliable to estimate the relevant metrics using cross-validation."
      ],
      "metadata": {
        "id": "4YWNbSMeFdvw"
      }
    },
    {
      "cell_type": "markdown",
      "source": [
        "# 6. 🔁  Calculating MAE, MSE, RMSE та $R^2$ (Cross-Validation)"
      ],
      "metadata": {
        "id": "Zy2cP6sf5pru"
      }
    },
    {
      "cell_type": "markdown",
      "source": [
        "Metric calculation for assessing the quality of predictions using cross-validation."
      ],
      "metadata": {
        "id": "UhK2dHHEC7_c"
      }
    },
    {
      "cell_type": "code",
      "source": [
        "from sklearn.model_selection import cross_val_score"
      ],
      "metadata": {
        "id": "mozIQ7UB6wTk"
      },
      "execution_count": null,
      "outputs": []
    },
    {
      "cell_type": "code",
      "source": [
        "model_cross = LinearRegression()"
      ],
      "metadata": {
        "id": "OkjTaZ7g7ldg"
      },
      "execution_count": null,
      "outputs": []
    },
    {
      "cell_type": "code",
      "source": [
        "mae_scores = cross_val_score(model_cross, X, y, cv = 5, scoring = \"neg_mean_absolute_error\") # MAE\n",
        "mse_scores = cross_val_score(model_cross, X, y, cv = 5, scoring = \"neg_mean_squared_error\") # MSE\n",
        "rmse_scores = cross_val_score(model_cross, X, y, cv = 5, scoring = \"neg_root_mean_squared_error\") # RMSE\n",
        "r2_scores = cross_val_score(model_cross, X, y, cv = 5, scoring = \"r2\") # R^2"
      ],
      "metadata": {
        "id": "RGXEo43H5Oij"
      },
      "execution_count": null,
      "outputs": []
    },
    {
      "cell_type": "code",
      "source": [
        "print(\"MAE:\\nCross-validation scores:\", mae_scores)\n",
        "print(\"Mean cross-validation score:\", mae_scores.mean())\n",
        "print(\"\\nMSE:\\nCross-validation scores:\", mse_scores)\n",
        "print(\"Mean cross-validation score:\", mse_scores.mean())\n",
        "print(\"\\nRMSE:\\nCross-validation scores:\", rmse_scores)\n",
        "print(\"Mean cross-validation score:\", rmse_scores.mean())\n",
        "print(\"\\nR^2:\\nCross-validation scores:\", r2_scores)\n",
        "print(\"Mean cross-validation score:\", r2_scores.mean())"
      ],
      "metadata": {
        "colab": {
          "base_uri": "https://localhost:8080/"
        },
        "id": "-asXXRjY64Wl",
        "outputId": "f1efbcd5-2506-4078-8589-fd8f485c8533"
      },
      "execution_count": null,
      "outputs": [
        {
          "output_type": "stream",
          "name": "stdout",
          "text": [
            "MAE:\n",
            "Cross-validation scores: [-51.37332088 -41.63502431 -49.58701539 -36.62543402 -53.37410804]\n",
            "Mean cross-validation score: -46.518980525709935\n",
            "\n",
            "MSE:\n",
            "Cross-validation scores: [-4159.91249159 -2173.77419555 -3128.12631659 -1878.90591036\n",
            " -5062.81339149]\n",
            "Mean cross-validation score: -3280.7064611159817\n",
            "\n",
            "RMSE:\n",
            "Cross-validation scores: [-64.4973836  -46.62375141 -55.92965507 -43.34634829 -71.15344961]\n",
            "Mean cross-validation score: -56.31011759793522\n",
            "\n",
            "R^2:\n",
            "Cross-validation scores: [0.87353564 0.87995781 0.87713793 0.9062386  0.79112581]\n",
            "Mean cross-validation score: 0.8655991582416138\n"
          ]
        }
      ]
    },
    {
      "cell_type": "markdown",
      "source": [
        "- The cross-validation $R^2$ is 0.9, which confirms the high quality of the model.\n",
        "- The mean absolute error (MAE) is 46.5 monetary units, which is the average error of the model. This also indicates its good accuracy."
      ],
      "metadata": {
        "id": "-L6cUvVAFpOD"
      }
    },
    {
      "cell_type": "markdown",
      "source": [
        "# 7. 🧾 Conclusion"
      ],
      "metadata": {
        "id": "HuBfDPSf8shd"
      }
    },
    {
      "cell_type": "code",
      "source": [
        "print(\"Metrics for Test Data Model:\")\n",
        "print(f\"MAE: {mae},\\nMSE: {mse},\\nRMSE: {rmse},\\nR^2: {r2}\")\n",
        "\n",
        "print(\"\\nMetrics for Cross-Validation Model:\")\n",
        "print(f\"MAE: {mae_scores.mean()},\\nMSE: {mse_scores.mean()},\\nRMSE: {rmse_scores.mean()},\\nR^2: {r2_scores.mean()}\")"
      ],
      "metadata": {
        "colab": {
          "base_uri": "https://localhost:8080/"
        },
        "id": "GXD3ZQiU8XQJ",
        "outputId": "d4282189-ea14-4b63-bc22-06eeb00a5275"
      },
      "execution_count": null,
      "outputs": [
        {
          "output_type": "stream",
          "name": "stdout",
          "text": [
            "Metrics for Test Data Model:\n",
            "MAE: 37.45947343426997,\n",
            "MSE: 1812.4240202659041,\n",
            "RMSE: 42.57257356874146,\n",
            "R^2: 0.9141191309626138\n",
            "\n",
            "Metrics for Cross-Validation Model:\n",
            "MAE: -46.518980525709935,\n",
            "MSE: -3280.7064611159817,\n",
            "RMSE: -56.31011759793522,\n",
            "R^2: 0.8655991582416138\n"
          ]
        }
      ]
    },
    {
      "cell_type": "markdown",
      "source": [
        "- According to the results, the model based on test data has better metrics values (MAE, MSE, RMSE, $R^2$).\n",
        "\n",
        "- As MSE and RMSE are suitable for cases where it is important to reduce large errors, in this case they are key for comparing models.\n"
      ],
      "metadata": {
        "id": "LjJzqSVD9052"
      }
    },
    {
      "cell_type": "code",
      "source": [],
      "metadata": {
        "id": "XTYdso-W84Mf"
      },
      "execution_count": null,
      "outputs": []
    }
  ]
}